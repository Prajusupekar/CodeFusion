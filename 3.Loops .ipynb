{
 "cells": [
  {
   "cell_type": "markdown",
   "id": "e8fcf382-fac4-4996-a23f-5126a187ca11",
   "metadata": {},
   "source": [
    "## WHILE LOOP"
   ]
  },
  {
   "cell_type": "code",
   "execution_count": 2,
   "id": "992dc56a-24cc-4a5a-8fd7-40d25825f43d",
   "metadata": {},
   "outputs": [
    {
     "name": "stdout",
     "output_type": "stream",
     "text": [
      "prajakta\n",
      "prajakta\n",
      "prajakta\n",
      "prajakta\n",
      "prajakta\n",
      "prajakta\n",
      "prajakta\n",
      "prajakta\n",
      "prajakta\n",
      "prajakta\n",
      "good byee\n"
     ]
    }
   ],
   "source": [
    "# print a name in 10 times\n",
    "\n",
    "count = 0\n",
    "\n",
    "while count<10:\n",
    "    print('prajakta')\n",
    "    count+= 1  # count = count+1\n",
    "print('good byee')"
   ]
  },
  {
   "cell_type": "code",
   "execution_count": 3,
   "id": "a17e99f4-ddc8-421a-9377-8b1b880d57db",
   "metadata": {},
   "outputs": [
    {
     "name": "stdout",
     "output_type": "stream",
     "text": [
      "1\n",
      "2\n",
      "3\n",
      "4\n",
      "5\n",
      "6\n",
      "7\n",
      "8\n",
      "9\n",
      "10\n",
      "11\n",
      "12\n",
      "13\n",
      "14\n",
      "15\n",
      "16\n",
      "17\n",
      "18\n",
      "19\n",
      "20\n",
      "good byee\n"
     ]
    }
   ],
   "source": [
    "count = 1\n",
    "\n",
    "while count<=20:\n",
    "    print(count)\n",
    "    count+= 1  # count = count+1\n",
    "print('good byee')"
   ]
  },
  {
   "cell_type": "code",
   "execution_count": 4,
   "id": "54a1a329-1b12-42ed-a9d6-e0b79689c999",
   "metadata": {},
   "outputs": [
    {
     "data": {
      "text/plain": [
       "21"
      ]
     },
     "execution_count": 4,
     "metadata": {},
     "output_type": "execute_result"
    }
   ],
   "source": [
    "count"
   ]
  },
  {
   "cell_type": "code",
   "execution_count": 5,
   "id": "086df9ab-53af-4c66-87cc-74513b744e0d",
   "metadata": {},
   "outputs": [
    {
     "name": "stdout",
     "output_type": "stream",
     "text": [
      "Addition is: 55\n"
     ]
    }
   ],
   "source": [
    "# find the addition of numbers in 1 to 10\n",
    "\n",
    "count = 1\n",
    "add = 0\n",
    "\n",
    "while count <=10:\n",
    "    add=add+count\n",
    "    count+= 1\n",
    "print('Addition is:',add)\n"
   ]
  },
  {
   "cell_type": "code",
   "execution_count": 6,
   "id": "d26532dd-cd9c-40eb-8388-827cac6e6214",
   "metadata": {},
   "outputs": [
    {
     "name": "stdout",
     "output_type": "stream",
     "text": [
      "Addition is: 210\n"
     ]
    }
   ],
   "source": [
    "# find the addition of numbers in 1 to 20\n",
    "\n",
    "count = 1\n",
    "add = 0\n",
    "\n",
    "while count <=20:\n",
    "    add=add+count\n",
    "    count+= 1\n",
    "print('Addition is:',add)\n"
   ]
  },
  {
   "cell_type": "code",
   "execution_count": 7,
   "id": "20b6c847-363e-41f3-a4d8-c4bbdd00429c",
   "metadata": {},
   "outputs": [
    {
     "name": "stdout",
     "output_type": "stream",
     "text": [
      "Addition is: 100\n"
     ]
    }
   ],
   "source": [
    "# find the addition of odd numbers in 1 to 20\n",
    "\n",
    "count = 1\n",
    "add = 0\n",
    "\n",
    "while count <=20:\n",
    "    add=add+count\n",
    "    count+= 2\n",
    "print('Addition is:',add)\n"
   ]
  },
  {
   "cell_type": "code",
   "execution_count": 8,
   "id": "240d89cf-9c17-4922-9017-8661dd4f1e5f",
   "metadata": {},
   "outputs": [
    {
     "name": "stdout",
     "output_type": "stream",
     "text": [
      "Addition is: 110\n"
     ]
    }
   ],
   "source": [
    "# find the addition of even numbers in 1 to 20\n",
    "\n",
    "count = 0\n",
    "add = 0\n",
    "\n",
    "while count <=20:\n",
    "    add=add+count\n",
    "    count+= 2\n",
    "print('Addition is:',add)"
   ]
  },
  {
   "cell_type": "code",
   "execution_count": 9,
   "id": "de1eeac2-0c39-4191-bcf4-afe5920fd8b3",
   "metadata": {},
   "outputs": [
    {
     "name": "stdin",
     "output_type": "stream",
     "text": [
      "Enter the number 5\n"
     ]
    },
    {
     "name": "stdout",
     "output_type": "stream",
     "text": [
      "factorial is: 120\n"
     ]
    }
   ],
   "source": [
    "# factorial\n",
    "num = int(input('Enter the number'))\n",
    "fact = 1\n",
    "          \n",
    "while num > 1:\n",
    "    fact = fact * num\n",
    "    num-= 1\n",
    "    \n",
    "print('factorial is:',fact)"
   ]
  },
  {
   "cell_type": "code",
   "execution_count": 10,
   "id": "14b0061a-660f-40d7-81bd-9a46144b9464",
   "metadata": {},
   "outputs": [
    {
     "name": "stdin",
     "output_type": "stream",
     "text": [
      "Enter the number 15\n"
     ]
    },
    {
     "name": "stdout",
     "output_type": "stream",
     "text": [
      "6\n"
     ]
    }
   ],
   "source": [
    "# addition of digits\n",
    "\n",
    "num = int(input('Enter the number'))\n",
    "add = 0\n",
    "\n",
    "while num >0:\n",
    "    rem = num%10\n",
    "    num = num//10\n",
    "    add = add+rem\n",
    "print(add)\n",
    "    \n"
   ]
  },
  {
   "cell_type": "code",
   "execution_count": 11,
   "id": "6f5e338b-a7cc-43b1-905a-c9022e8bce76",
   "metadata": {},
   "outputs": [
    {
     "name": "stdout",
     "output_type": "stream",
     "text": [
      "1 :Odd\n",
      "2 :Even\n",
      "3 :Odd\n",
      "4 :Even\n",
      "5 :Odd\n",
      "6 :Even\n",
      "7 :Odd\n",
      "8 :Even\n",
      "9 :Odd\n",
      "10 :Even\n"
     ]
    }
   ],
   "source": [
    "# print 1 to 10 *1  numbers =>also state or odd\n",
    "\n",
    "count = 1\n",
    "\n",
    "while count <= 10:\n",
    "    if count % 2 == 0:\n",
    "        print(count,':Even')\n",
    "    else:\n",
    "        print(count,':Odd')\n",
    "    count += 1        \n",
    "    "
   ]
  },
  {
   "cell_type": "markdown",
   "id": "338ceb6e-980e-4f26-8393-0c479e2c349e",
   "metadata": {},
   "source": [
    "### For Loop"
   ]
  },
  {
   "cell_type": "code",
   "execution_count": 13,
   "id": "f3dd5d6e-a5f9-42ca-bc9a-162a815fe2a8",
   "metadata": {},
   "outputs": [
    {
     "name": "stdout",
     "output_type": "stream",
     "text": [
      "12\n",
      "15\n",
      "47\n",
      "1\n",
      "5\n",
      "8\n",
      "4\n"
     ]
    }
   ],
   "source": [
    "for n in 12,15,47,1,5,8,4:\n",
    "    print(n)"
   ]
  },
  {
   "cell_type": "code",
   "execution_count": 14,
   "id": "7f73dc22-6645-4bde-96e1-0076e4781ebb",
   "metadata": {},
   "outputs": [
    {
     "name": "stdout",
     "output_type": "stream",
     "text": [
      "6.0\n",
      "7.5\n",
      "23.5\n",
      "0.5\n",
      "2.5\n",
      "4.0\n",
      "2.0\n"
     ]
    }
   ],
   "source": [
    "for n in 12,15,47,1,5,8,4:\n",
    "    print(n/2)"
   ]
  },
  {
   "cell_type": "code",
   "execution_count": 15,
   "id": "ab18a5f3-6fd8-48f0-b099-560fe57fa03f",
   "metadata": {},
   "outputs": [
    {
     "name": "stdout",
     "output_type": "stream",
     "text": [
      "12 15 48 15 abhi True "
     ]
    }
   ],
   "source": [
    "for n in 12,15,48,15,'abhi',True:\n",
    "    print(n,end = ' ')"
   ]
  },
  {
   "cell_type": "code",
   "execution_count": 16,
   "id": "429e9e6c-b1bf-42ca-9531-e7779401a898",
   "metadata": {},
   "outputs": [],
   "source": [
    "# range function"
   ]
  },
  {
   "cell_type": "code",
   "execution_count": 17,
   "id": "ab08d14e-dcac-4ccd-93fa-ec6f98334f82",
   "metadata": {},
   "outputs": [
    {
     "data": {
      "text/plain": [
       "[0, 1, 2, 3, 4, 5, 6, 7, 8, 9]"
      ]
     },
     "execution_count": 17,
     "metadata": {},
     "output_type": "execute_result"
    }
   ],
   "source": [
    "list (range(10))"
   ]
  },
  {
   "cell_type": "code",
   "execution_count": 18,
   "id": "5a7377c2-14df-49d5-a0e9-1b7cec4dee98",
   "metadata": {},
   "outputs": [
    {
     "data": {
      "text/plain": [
       "[1, 2, 3, 4, 5, 6, 7, 8, 9]"
      ]
     },
     "execution_count": 18,
     "metadata": {},
     "output_type": "execute_result"
    }
   ],
   "source": [
    "list (range(1,10))"
   ]
  },
  {
   "cell_type": "code",
   "execution_count": 19,
   "id": "650bd9c8-a193-4c8a-a6ee-96099d7fdd94",
   "metadata": {},
   "outputs": [
    {
     "data": {
      "text/plain": [
       "[1, 3, 5, 7, 9]"
      ]
     },
     "execution_count": 19,
     "metadata": {},
     "output_type": "execute_result"
    }
   ],
   "source": [
    "list (range(1,10,2)) "
   ]
  },
  {
   "cell_type": "code",
   "execution_count": 20,
   "id": "2a8c6c7f-10c1-4d2c-b95e-20e44e26b465",
   "metadata": {},
   "outputs": [
    {
     "data": {
      "text/plain": [
       "[20, 18, 16, 14, 12]"
      ]
     },
     "execution_count": 20,
     "metadata": {},
     "output_type": "execute_result"
    }
   ],
   "source": [
    "list (range(20,10,-2)) "
   ]
  },
  {
   "cell_type": "code",
   "execution_count": 21,
   "id": "b3894fa8-79cc-4601-9aab-0b0c86caf165",
   "metadata": {},
   "outputs": [
    {
     "name": "stdout",
     "output_type": "stream",
     "text": [
      "0  1  2  3  4  5  6  7  8  9  10  "
     ]
    }
   ],
   "source": [
    "# print the numbers from 0 to 10 using range function\n",
    "\n",
    "for n in range(11):\n",
    "    print(n,end = '  ')"
   ]
  },
  {
   "cell_type": "code",
   "execution_count": 22,
   "id": "fd3749e9-9b37-452e-9587-53171caa10cf",
   "metadata": {},
   "outputs": [
    {
     "name": "stdout",
     "output_type": "stream",
     "text": [
      "prajakta\n",
      "prajakta\n",
      "prajakta\n",
      "prajakta\n",
      "prajakta\n",
      "prajakta\n",
      "prajakta\n",
      "prajakta\n",
      "prajakta\n",
      "prajakta\n",
      "prajakta\n"
     ]
    }
   ],
   "source": [
    "# print name 10 times\n",
    "\n",
    "for n in range(11):\n",
    "    print('prajakta')"
   ]
  },
  {
   "cell_type": "code",
   "execution_count": 23,
   "id": "dd15784e-0f2c-4976-b568-2bb5fca6a5d4",
   "metadata": {},
   "outputs": [
    {
     "name": "stdout",
     "output_type": "stream",
     "text": [
      "Addition is: 55\n"
     ]
    }
   ],
   "source": [
    "# find the addition of 1 t0 10 numbers\n",
    "add = 0\n",
    "for n in range(1,11):\n",
    "    add = add + n\n",
    "print('Addition is:',add)\n",
    "\n"
   ]
  },
  {
   "cell_type": "code",
   "execution_count": 24,
   "id": "30999279-9ed3-490c-9b8f-6b9ea30b4e80",
   "metadata": {},
   "outputs": [
    {
     "name": "stdout",
     "output_type": "stream",
     "text": [
      "Addition of odd is: 100\n"
     ]
    }
   ],
   "source": [
    "add = 0\n",
    "for n in range(1,21,2):\n",
    "    add = add + n\n",
    "print('Addition of odd is:',add)\n"
   ]
  },
  {
   "cell_type": "code",
   "execution_count": 25,
   "id": "4c14a976-fa92-4bde-9c03-12831c458009",
   "metadata": {},
   "outputs": [
    {
     "name": "stdout",
     "output_type": "stream",
     "text": [
      "ppp\n",
      "rrr\n",
      "aaa\n",
      "jjj\n",
      "aaa\n",
      "kkk\n",
      "ttt\n",
      "aaa\n"
     ]
    }
   ],
   "source": [
    "name = 'prajakta'\n",
    "\n",
    "for n in name:\n",
    "    print(n*3)"
   ]
  },
  {
   "cell_type": "code",
   "execution_count": 26,
   "id": "6a93e5b0-c621-4d9e-8020-e4a8b9d9c10f",
   "metadata": {},
   "outputs": [
    {
     "name": "stdout",
     "output_type": "stream",
     "text": [
      "1\n",
      "202\n",
      "56\n",
      "12\n",
      "2\n",
      "3\n"
     ]
    }
   ],
   "source": [
    "num = [1,202,56,12,2,3]\n",
    "\n",
    "for n in num:\n",
    "    print(n)"
   ]
  },
  {
   "cell_type": "code",
   "execution_count": 27,
   "id": "72e53407-c724-49b3-a4c4-200800df0b64",
   "metadata": {},
   "outputs": [],
   "source": [
    "# else"
   ]
  },
  {
   "cell_type": "code",
   "execution_count": 28,
   "id": "caf5aac8-ac12-4869-94f8-f4a7908833eb",
   "metadata": {},
   "outputs": [
    {
     "name": "stdout",
     "output_type": "stream",
     "text": [
      "1\n",
      "202\n",
      "56\n",
      "12\n",
      "2\n",
      "3\n",
      "Loop Ended\n"
     ]
    }
   ],
   "source": [
    "num = [1,202,56,12,2,3]\n",
    "\n",
    "for n in num:\n",
    "    print(n)\n",
    "else:\n",
    "    print('Loop Ended')"
   ]
  },
  {
   "cell_type": "code",
   "execution_count": 29,
   "id": "bdf7610b-088f-42a9-a822-bff1e5b43b64",
   "metadata": {},
   "outputs": [
    {
     "name": "stdin",
     "output_type": "stream",
     "text": [
      "enter the number 4\n"
     ]
    },
    {
     "name": "stdout",
     "output_type": "stream",
     "text": [
      "Fcatorial is: 24\n"
     ]
    }
   ],
   "source": [
    "#using for loop find factorial\n",
    "num = int(input('enter the number'))\n",
    "fact = 1\n",
    "for n in range(1,num+1):\n",
    "    fact = fact * n\n",
    "print('Fcatorial is:',fact)"
   ]
  },
  {
   "cell_type": "markdown",
   "id": "0d898379-0265-46f9-8759-4c1c993d82d7",
   "metadata": {},
   "source": [
    "## Break"
   ]
  },
  {
   "cell_type": "code",
   "execution_count": 31,
   "id": "621ddec4-f898-47cb-ad51-c737f03a9a21",
   "metadata": {},
   "outputs": [
    {
     "name": "stdout",
     "output_type": "stream",
     "text": [
      "0\n",
      "1\n",
      "2\n",
      "3\n",
      "4\n"
     ]
    }
   ],
   "source": [
    "for n in range(10):\n",
    "    if n == 5:\n",
    "        break\n",
    "    print(n)"
   ]
  },
  {
   "cell_type": "code",
   "execution_count": 32,
   "id": "0b27729c-2ab6-43d4-bbfd-0d2c36a70354",
   "metadata": {},
   "outputs": [
    {
     "name": "stdout",
     "output_type": "stream",
     "text": [
      "0\n",
      "1\n",
      "2\n",
      "3\n",
      "4\n"
     ]
    }
   ],
   "source": [
    "count = 0\n",
    "\n",
    "while count < 10:\n",
    "    print(count)\n",
    "    count+= 1  #\n",
    "    if count == 5:\n",
    "        break\n",
    "\n"
   ]
  },
  {
   "cell_type": "markdown",
   "id": "9266af83-9287-4a41-87a6-1132f5e828ae",
   "metadata": {},
   "source": [
    "## Continue"
   ]
  },
  {
   "cell_type": "code",
   "execution_count": 34,
   "id": "20c49bac-3b36-4bf9-9d38-9ef157b26834",
   "metadata": {},
   "outputs": [
    {
     "name": "stdout",
     "output_type": "stream",
     "text": [
      "0\n",
      "ok\n",
      "1\n",
      "ok\n",
      "2\n",
      "ok\n",
      "3\n",
      "ok\n",
      "4\n",
      "ok\n",
      "6\n",
      "ok\n",
      "7\n",
      "ok\n",
      "8\n",
      "ok\n",
      "9\n",
      "ok\n"
     ]
    }
   ],
   "source": [
    "for n in range(10):\n",
    "    if n == 5:\n",
    "        continue\n",
    "    print(n)\n",
    "    print('ok')"
   ]
  },
  {
   "cell_type": "code",
   "execution_count": 35,
   "id": "643b4c08-3939-4537-90b2-ccb143974e0e",
   "metadata": {},
   "outputs": [
    {
     "name": "stdout",
     "output_type": "stream",
     "text": [
      "1\n",
      "2\n",
      "3\n",
      "4\n",
      "6\n",
      "7\n",
      "8\n",
      "9\n",
      "10\n"
     ]
    }
   ],
   "source": [
    "count = 0\n",
    "\n",
    "while count < 10:\n",
    "    count+= 1  \n",
    "    if count == 5:\n",
    "        continue\n",
    "    print(count)"
   ]
  },
  {
   "cell_type": "markdown",
   "id": "1579b2f4-9a68-4a82-9ee2-1f50a3b1a5a0",
   "metadata": {},
   "source": [
    "#### Pass"
   ]
  },
  {
   "cell_type": "code",
   "execution_count": 37,
   "id": "f0bb4c7c-ce75-43a6-9bb7-d05babae028a",
   "metadata": {},
   "outputs": [
    {
     "name": "stdout",
     "output_type": "stream",
     "text": [
      "ok\n"
     ]
    }
   ],
   "source": [
    "n = 5\n",
    "if n >1:\n",
    "    pass\n",
    "\n",
    "print('ok')"
   ]
  },
  {
   "cell_type": "code",
   "execution_count": 38,
   "id": "64198b32-6094-408d-be5d-a2f493bf9198",
   "metadata": {},
   "outputs": [
    {
     "name": "stdin",
     "output_type": "stream",
     "text": [
      "Enter the number of rows 5\n"
     ]
    },
    {
     "name": "stdout",
     "output_type": "stream",
     "text": [
      "*  \n",
      "*  *  \n",
      "*  *  *  \n",
      "*  *  *  *  \n",
      "*  *  *  *  *  \n"
     ]
    }
   ],
   "source": [
    "r = int(input('Enter the number of rows'))\n",
    "\n",
    "for i in range(1,r+1):\n",
    "    for j in range(i):\n",
    "        print('*',end = '  ')\n",
    "    print()\n",
    "    \n",
    "   \n",
    "    "
   ]
  }
 ],
 "metadata": {
  "kernelspec": {
   "display_name": "Python 3 (ipykernel)",
   "language": "python",
   "name": "python3"
  },
  "language_info": {
   "codemirror_mode": {
    "name": "ipython",
    "version": 3
   },
   "file_extension": ".py",
   "mimetype": "text/x-python",
   "name": "python",
   "nbconvert_exporter": "python",
   "pygments_lexer": "ipython3",
   "version": "3.12.4"
  }
 },
 "nbformat": 4,
 "nbformat_minor": 5
}
