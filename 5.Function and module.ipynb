{
 "cells": [
  {
   "cell_type": "code",
   "execution_count": 2,
   "id": "25e56065-5eec-489e-aadf-42c50a22f1eb",
   "metadata": {},
   "outputs": [],
   "source": [
    "# define a functio  / function defination\n",
    "\n",
    "def show():\n",
    "    print('Hello')\n",
    "    print('How are u')\n",
    "    print('goodbyee')"
   ]
  },
  {
   "cell_type": "code",
   "execution_count": 4,
   "id": "a8ab3f1b-98a2-439d-871f-f9716a0b7745",
   "metadata": {},
   "outputs": [
    {
     "name": "stdout",
     "output_type": "stream",
     "text": [
      "Hello\n",
      "How are u\n",
      "goodbyee\n"
     ]
    }
   ],
   "source": [
    "show()"
   ]
  },
  {
   "cell_type": "code",
   "execution_count": 6,
   "id": "884fcd21-934e-4882-94cb-f292fce9334d",
   "metadata": {},
   "outputs": [
    {
     "name": "stdout",
     "output_type": "stream",
     "text": [
      "Hello\n",
      "How are u\n",
      "goodbyee\n",
      "Hello\n",
      "How are u\n",
      "goodbyee\n",
      "Hello\n",
      "How are u\n",
      "goodbyee\n"
     ]
    }
   ],
   "source": [
    "show()\n",
    "show()\n",
    "show()"
   ]
  },
  {
   "cell_type": "code",
   "execution_count": 53,
   "id": "cad5d6a9-f750-4c77-914e-0bda6bff6beb",
   "metadata": {},
   "outputs": [],
   "source": [
    " # paramiterized function\n",
    "\n",
    "def squre(num):\n",
    "    sq = num *num\n",
    "    print(sq)"
   ]
  },
  {
   "cell_type": "code",
   "execution_count": 55,
   "id": "1959e21d-bdc0-488f-955f-0dc0b32026bf",
   "metadata": {},
   "outputs": [
    {
     "name": "stdout",
     "output_type": "stream",
     "text": [
      "25\n"
     ]
    }
   ],
   "source": [
    "squre(5)"
   ]
  },
  {
   "cell_type": "code",
   "execution_count": 57,
   "id": "cef0809e-01c1-410e-926f-810ebb2ce231",
   "metadata": {},
   "outputs": [],
   "source": [
    "def cube(num):\n",
    "    cu = num ** 3\n",
    "    print(cu)"
   ]
  },
  {
   "cell_type": "code",
   "execution_count": 59,
   "id": "3d21395b-4f46-4c36-a571-b01e93a088fd",
   "metadata": {},
   "outputs": [
    {
     "name": "stdout",
     "output_type": "stream",
     "text": [
      "32.76800000000001\n"
     ]
    }
   ],
   "source": [
    "cube(3.2)"
   ]
  },
  {
   "cell_type": "code",
   "execution_count": 61,
   "id": "4ea5615e-4096-4a61-8171-0e2a9a6c8eed",
   "metadata": {},
   "outputs": [
    {
     "name": "stdin",
     "output_type": "stream",
     "text": [
      "Enter the number 25\n"
     ]
    },
    {
     "name": "stdout",
     "output_type": "stream",
     "text": [
      "15625\n"
     ]
    }
   ],
   "source": [
    "num = int(input('Enter the number'))\n",
    "cube(num)"
   ]
  },
  {
   "cell_type": "code",
   "execution_count": 63,
   "id": "78d8ea1e-ea4f-4f26-a3ee-608edac80374",
   "metadata": {},
   "outputs": [],
   "source": [
    "# find the largest number\n",
    "def largest(x,y):\n",
    "    if x > y:\n",
    "        print('Largest:',x)\n",
    "    else:\n",
    "        print('Largest:',y)"
   ]
  },
  {
   "cell_type": "code",
   "execution_count": 32,
   "id": "0c35e7ac-8e62-40ca-8e3e-313473a9bf8c",
   "metadata": {},
   "outputs": [
    {
     "name": "stdout",
     "output_type": "stream",
     "text": [
      "Largest: 46\n"
     ]
    }
   ],
   "source": [
    "largest(20, 46)"
   ]
  },
  {
   "cell_type": "code",
   "execution_count": 65,
   "id": "afce740d-b6d2-4fd4-9c31-3456874b03fb",
   "metadata": {},
   "outputs": [],
   "source": [
    "# create a function which will display a string specified number of times\n",
    "def display(name, count):\n",
    "    for n in range(count):\n",
    "        print(name)\n",
    "       "
   ]
  },
  {
   "cell_type": "code",
   "execution_count": 38,
   "id": "8af74690-53d2-49a9-aa48-62c712efa48f",
   "metadata": {},
   "outputs": [
    {
     "name": "stdout",
     "output_type": "stream",
     "text": [
      "prajakta\n",
      "prajakta\n",
      "prajakta\n",
      "prajakta\n",
      "prajakta\n"
     ]
    }
   ],
   "source": [
    "display('prajakta',5)"
   ]
  },
  {
   "cell_type": "code",
   "execution_count": 15,
   "id": "c94ac662-0f35-41cc-bd82-5a8f863cce70",
   "metadata": {},
   "outputs": [],
   "source": [
    "# create fun foe factorial\n",
    "\n",
    "def fact(n):\n",
    "    fact = 1\n",
    "    for x in range(1,n+1):\n",
    "        fact = fact*x\n",
    "    print(fact)\n",
    "    "
   ]
  },
  {
   "cell_type": "code",
   "execution_count": 17,
   "id": "561f49ef-6994-4d0a-b876-b0e1c35102a9",
   "metadata": {},
   "outputs": [
    {
     "name": "stdin",
     "output_type": "stream",
     "text": [
      "Enter the number 10\n"
     ]
    },
    {
     "name": "stdout",
     "output_type": "stream",
     "text": [
      "3628800\n"
     ]
    }
   ],
   "source": [
    "n = int(input('Enter the number'))\n",
    "fact(n)"
   ]
  },
  {
   "cell_type": "markdown",
   "id": "ef7435e3-edad-414a-894c-249bf0d6de6b",
   "metadata": {},
   "source": [
    "##### function returning values"
   ]
  },
  {
   "cell_type": "code",
   "execution_count": 26,
   "id": "066b0ec0-4420-436d-8c27-db32657fd22e",
   "metadata": {},
   "outputs": [],
   "source": [
    "def squre(a):\n",
    "    sq = a * a\n",
    "    return(sq)"
   ]
  },
  {
   "cell_type": "code",
   "execution_count": 28,
   "id": "e319b5e4-f5aa-4ab1-8d50-5206765e5653",
   "metadata": {},
   "outputs": [
    {
     "data": {
      "text/plain": [
       "625"
      ]
     },
     "execution_count": 28,
     "metadata": {},
     "output_type": "execute_result"
    }
   ],
   "source": [
    "squre(25)"
   ]
  },
  {
   "cell_type": "code",
   "execution_count": 30,
   "id": "676b8ccf-5819-4e58-bfca-c4c0ba5cfe54",
   "metadata": {},
   "outputs": [],
   "source": [
    "z = squre(10)"
   ]
  },
  {
   "cell_type": "code",
   "execution_count": 32,
   "id": "43ecd4b6-be10-4a27-bc84-fd4c88f1b594",
   "metadata": {},
   "outputs": [
    {
     "data": {
      "text/plain": [
       "100"
      ]
     },
     "execution_count": 32,
     "metadata": {},
     "output_type": "execute_result"
    }
   ],
   "source": [
    "z"
   ]
  },
  {
   "cell_type": "code",
   "execution_count": 34,
   "id": "247d9104-0495-4b89-9d26-c80365fa464c",
   "metadata": {},
   "outputs": [],
   "source": [
    "def largest(x,y):\n",
    "    if x > y:\n",
    "        return x\n",
    "    else:\n",
    "        return y\n",
    "    "
   ]
  },
  {
   "cell_type": "code",
   "execution_count": 36,
   "id": "3894667c-cdec-42f5-a16d-de0c1753a18a",
   "metadata": {},
   "outputs": [
    {
     "data": {
      "text/plain": [
       "30"
      ]
     },
     "execution_count": 36,
     "metadata": {},
     "output_type": "execute_result"
    }
   ],
   "source": [
    "largest(20,30)"
   ]
  },
  {
   "cell_type": "markdown",
   "id": "3dfe3d8d-50bf-446c-be64-83042fd91353",
   "metadata": {},
   "source": [
    "#### Multi return"
   ]
  },
  {
   "cell_type": "code",
   "execution_count": 41,
   "id": "a522d274-09b1-4757-b1d1-94709bc83b44",
   "metadata": {},
   "outputs": [],
   "source": [
    "def calc(n):\n",
    "    sq = n*n\n",
    "    cu = n ** 3\n",
    "    return sq,cu\n",
    "    "
   ]
  },
  {
   "cell_type": "code",
   "execution_count": 43,
   "id": "bc9a47d1-dbce-4d5a-9bac-a688b1877a2c",
   "metadata": {},
   "outputs": [
    {
     "data": {
      "text/plain": [
       "(100, 1000)"
      ]
     },
     "execution_count": 43,
     "metadata": {},
     "output_type": "execute_result"
    }
   ],
   "source": [
    "calc(10)"
   ]
  },
  {
   "cell_type": "code",
   "execution_count": null,
   "id": "02c0a05c-cfe9-4e01-b7b3-57967a22f0f7",
   "metadata": {},
   "outputs": [],
   "source": [
    "# default parameter"
   ]
  },
  {
   "cell_type": "code",
   "execution_count": 45,
   "id": "94fed58c-345b-4eea-b251-856f3704e7c5",
   "metadata": {},
   "outputs": [],
   "source": [
    "def add3(x,y,z):\n",
    "    result = x+y+z\n",
    "    return result"
   ]
  },
  {
   "cell_type": "code",
   "execution_count": 51,
   "id": "a509a208-e4b6-4041-81f0-8027a246013a",
   "metadata": {},
   "outputs": [
    {
     "name": "stdin",
     "output_type": "stream",
     "text": [
      "Enter the number 10\n",
      "Enter the number 15\n",
      "Enter the number 22\n"
     ]
    },
    {
     "data": {
      "text/plain": [
       "47"
      ]
     },
     "execution_count": 51,
     "metadata": {},
     "output_type": "execute_result"
    }
   ],
   "source": [
    "x = int(input('Enter the number'))\n",
    "y = int(input('Enter the number'))\n",
    "z = int(input('Enter the number'))\n",
    "add3(x,y,z)"
   ]
  },
  {
   "cell_type": "markdown",
   "id": "9f39224c-44c7-467c-9bd6-d4599a276bf0",
   "metadata": {},
   "source": [
    "#### dynamic varible length"
   ]
  },
  {
   "cell_type": "code",
   "execution_count": 72,
   "id": "80a9a018-678c-4d20-a62c-bc8a7ede95be",
   "metadata": {},
   "outputs": [],
   "source": [
    "def dyna(*args):\n",
    "    for n in args:\n",
    "        print(n)"
   ]
  },
  {
   "cell_type": "code",
   "execution_count": 74,
   "id": "21ee3f38-a40e-4dfc-8f43-b73e9ba25811",
   "metadata": {},
   "outputs": [
    {
     "name": "stdout",
     "output_type": "stream",
     "text": [
      "23\n",
      "56\n",
      "12\n",
      "89\n",
      "300\n"
     ]
    }
   ],
   "source": [
    "dyna(23,56,12,89,300)"
   ]
  },
  {
   "cell_type": "code",
   "execution_count": 84,
   "id": "33f22e6a-8348-4fc6-b73d-bfd575b384bb",
   "metadata": {},
   "outputs": [],
   "source": [
    "# take dynamic varible for addition\n",
    "\n",
    "def add(*args):\n",
    "    a = 0\n",
    "    for n in args:\n",
    "        a = a +n\n",
    "    return a"
   ]
  },
  {
   "cell_type": "code",
   "execution_count": 88,
   "id": "70fcb642-02b0-4312-9228-6299f03ef312",
   "metadata": {},
   "outputs": [
    {
     "data": {
      "text/plain": [
       "240"
      ]
     },
     "execution_count": 88,
     "metadata": {},
     "output_type": "execute_result"
    }
   ],
   "source": [
    "add(20,30,40,70,80)"
   ]
  },
  {
   "cell_type": "markdown",
   "id": "49610a1a-3bd7-4b8f-aedd-0c2cd89895fc",
   "metadata": {},
   "source": [
    "### lambda / anonymous function/ one liner function"
   ]
  },
  {
   "cell_type": "code",
   "execution_count": 96,
   "id": "cb6b1a96-49e4-4250-9eb0-3a73b839e0eb",
   "metadata": {},
   "outputs": [
    {
     "data": {
      "text/plain": [
       "100"
      ]
     },
     "execution_count": 96,
     "metadata": {},
     "output_type": "execute_result"
    }
   ],
   "source": [
    "square = lambda a: a*a\n",
    "# fun name = lambda variabes : expression\n",
    "square(10)"
   ]
  },
  {
   "cell_type": "code",
   "execution_count": 100,
   "id": "5278fb4d-58e8-4bb9-8750-ad3546fa32e9",
   "metadata": {},
   "outputs": [
    {
     "data": {
      "text/plain": [
       "160"
      ]
     },
     "execution_count": 100,
     "metadata": {},
     "output_type": "execute_result"
    }
   ],
   "source": [
    "mul = lambda a,b: a*b\n",
    "mul(8,20)"
   ]
  },
  {
   "cell_type": "code",
   "execution_count": 102,
   "id": "f7e01a37-5a9a-4f11-9b40-4143f0ff0baa",
   "metadata": {},
   "outputs": [
    {
     "data": {
      "text/plain": [
       "28"
      ]
     },
     "execution_count": 102,
     "metadata": {},
     "output_type": "execute_result"
    }
   ],
   "source": [
    "add = lambda a,b: a+b\n",
    "add(8,20)"
   ]
  },
  {
   "cell_type": "markdown",
   "id": "cf0f94cc-0131-4039-8274-b00ec067755f",
   "metadata": {},
   "source": [
    "## filter"
   ]
  },
  {
   "cell_type": "code",
   "execution_count": 5,
   "id": "5b342574-a3fd-4771-87bb-0b4279b01590",
   "metadata": {},
   "outputs": [],
   "source": [
    " num =[32,52,47,65,8,56,15,45,263,587,56,52]"
   ]
  },
  {
   "cell_type": "code",
   "execution_count": 7,
   "id": "6454edab-366f-4f6a-a55b-65f61586861d",
   "metadata": {},
   "outputs": [
    {
     "data": {
      "text/plain": [
       "[32, 52, 47, 65, 8, 56, 263, 587, 56, 52]"
      ]
     },
     "execution_count": 7,
     "metadata": {},
     "output_type": "execute_result"
    }
   ],
   "source": [
    "new = filter(lambda x:x%3,num) # in filter do not change the value\n",
    "list(new)"
   ]
  },
  {
   "cell_type": "code",
   "execution_count": 9,
   "id": "f01c24ed-dfbb-4dd2-b263-6c02fc3d39d3",
   "metadata": {},
   "outputs": [],
   "source": [
    "x= [6,2,1,8,7,12,4,9]"
   ]
  },
  {
   "cell_type": "code",
   "execution_count": 13,
   "id": "0b4d1f9b-a9fb-4c8b-9877-6bf947d0b566",
   "metadata": {},
   "outputs": [
    {
     "data": {
      "text/plain": [
       "[6, 12, 9]"
      ]
     },
     "execution_count": 13,
     "metadata": {},
     "output_type": "execute_result"
    }
   ],
   "source": [
    "new = filter(lambda x:x%3==0,x) # in filter do not change the value\n",
    "list(new)"
   ]
  },
  {
   "cell_type": "markdown",
   "id": "f812d6c6-e58a-4f84-8200-0bcf5c63e5de",
   "metadata": {},
   "source": [
    "## map"
   ]
  },
  {
   "cell_type": "code",
   "execution_count": 116,
   "id": "a9941573-d9f1-407e-8479-7720970972c6",
   "metadata": {},
   "outputs": [
    {
     "data": {
      "text/plain": [
       "[16.0, 26.0, 23.5, 32.5, 4.0, 28.0, 7.5, 22.5, 131.5, 293.5, 28.0, 26.0]"
      ]
     },
     "execution_count": 116,
     "metadata": {},
     "output_type": "execute_result"
    }
   ],
   "source": [
    "new1 = map(lambda a:a/2,num)\n",
    "list(new1)"
   ]
  },
  {
   "cell_type": "code",
   "execution_count": 120,
   "id": "7fcfe96f-1600-4d66-ac70-fbc2b425bb95",
   "metadata": {},
   "outputs": [
    {
     "data": {
      "text/plain": [
       "[False, True, False, True, False, True, False, False, True, True, True, True]"
      ]
     },
     "execution_count": 120,
     "metadata": {},
     "output_type": "execute_result"
    }
   ],
   "source": [
    "new = map(lambda x:x>50,num)\n",
    "list(new)"
   ]
  },
  {
   "cell_type": "markdown",
   "id": "c3a54b80-cb9b-488a-abb5-a6e0d0b26373",
   "metadata": {},
   "source": [
    "### modules"
   ]
  },
  {
   "cell_type": "code",
   "execution_count": 7,
   "id": "43871ab1-a286-42a7-bbdb-0403cdfaf76e",
   "metadata": {},
   "outputs": [],
   "source": [
    "# math\n",
    "import math as m"
   ]
  },
  {
   "cell_type": "code",
   "execution_count": 9,
   "id": "e3738beb-8e6e-45fe-8082-9516c8652205",
   "metadata": {},
   "outputs": [
    {
     "data": {
      "text/plain": [
       "7.0"
      ]
     },
     "execution_count": 9,
     "metadata": {},
     "output_type": "execute_result"
    }
   ],
   "source": [
    "m.sqrt(49)"
   ]
  },
  {
   "cell_type": "code",
   "execution_count": 1,
   "id": "652de9b1-8c30-4518-99c3-26fc6081e981",
   "metadata": {},
   "outputs": [],
   "source": [
    "#help(m)"
   ]
  },
  {
   "cell_type": "code",
   "execution_count": 13,
   "id": "3c34b784-2f77-43f1-ad8e-c747acee2bd8",
   "metadata": {},
   "outputs": [],
   "source": [
    "import time as t"
   ]
  },
  {
   "cell_type": "code",
   "execution_count": 15,
   "id": "ec7f81f1-5555-4851-abc0-bec12ff8953c",
   "metadata": {},
   "outputs": [
    {
     "data": {
      "text/plain": [
       "'Wed Jan  8 14:23:59 2025'"
      ]
     },
     "execution_count": 15,
     "metadata": {},
     "output_type": "execute_result"
    }
   ],
   "source": [
    "t.asctime()"
   ]
  },
  {
   "cell_type": "code",
   "execution_count": 17,
   "id": "fe82c410-078a-42e9-971f-3a4fb108da3b",
   "metadata": {},
   "outputs": [
    {
     "name": "stdout",
     "output_type": "stream",
     "text": [
      "Wake up\n",
      "zzz\n"
     ]
    }
   ],
   "source": [
    "print('Wake up')\n",
    "t.sleep(3)\n",
    "print('zzz')"
   ]
  },
  {
   "cell_type": "code",
   "execution_count": 19,
   "id": "321c05cd-63b8-4f14-9756-7cf2d2a44640",
   "metadata": {},
   "outputs": [
    {
     "data": {
      "text/plain": [
       "1.0"
      ]
     },
     "execution_count": 19,
     "metadata": {},
     "output_type": "execute_result"
    }
   ],
   "source": [
    "m.cos(0)"
   ]
  },
  {
   "cell_type": "code",
   "execution_count": 21,
   "id": "179dc531-054e-4828-90f9-b3fc0426c92f",
   "metadata": {},
   "outputs": [],
   "source": [
    "import mod1"
   ]
  },
  {
   "cell_type": "code",
   "execution_count": 23,
   "id": "e2a2ab38-bb6a-4ee2-99bf-9132d69e4b26",
   "metadata": {},
   "outputs": [
    {
     "name": "stdout",
     "output_type": "stream",
     "text": [
      "Module Demo\n"
     ]
    }
   ],
   "source": [
    "mod1.sh()"
   ]
  },
  {
   "cell_type": "code",
   "execution_count": 25,
   "id": "611bbbb2-7ffe-4662-b935-d80e1680b7de",
   "metadata": {},
   "outputs": [
    {
     "name": "stdout",
     "output_type": "stream",
     "text": [
      "Help on module mod1:\n",
      "\n",
      "NAME\n",
      "    mod1 - Created on Wed Jan  8 14:31:18 2025\n",
      "\n",
      "DESCRIPTION\n",
      "    @author: prajakta supekar\n",
      "\n",
      "FUNCTIONS\n",
      "    sh()\n",
      "\n",
      "FILE\n",
      "    c:\\users\\hp\\onedrive\\desktop\\python\\phthonnnn\\mod1.py\n",
      "\n",
      "\n"
     ]
    }
   ],
   "source": [
    "help(mod1)"
   ]
  },
  {
   "cell_type": "code",
   "execution_count": 33,
   "id": "4cd63284-97e3-45fe-b4ef-ca579e1cf28d",
   "metadata": {},
   "outputs": [],
   "source": [
    "data = [8,9,10]"
   ]
  },
  {
   "cell_type": "code",
   "execution_count": 13,
   "id": "4de2f075-0f4a-4f8a-b50f-349f25bdb1eb",
   "metadata": {},
   "outputs": [
    {
     "data": {
      "text/plain": [
       "[8, 9, 10, 2, 3]"
      ]
     },
     "execution_count": 13,
     "metadata": {},
     "output_type": "execute_result"
    }
   ],
   "source": [
    "data += [2,3]\n",
    "data"
   ]
  },
  {
   "cell_type": "code",
   "execution_count": 35,
   "id": "0b651cec-e8ff-4c84-8e47-571534ce10f6",
   "metadata": {},
   "outputs": [
    {
     "data": {
      "text/plain": [
       "[8, 9, 10, [2, 3]]"
      ]
     },
     "execution_count": 35,
     "metadata": {},
     "output_type": "execute_result"
    }
   ],
   "source": [
    "data.append([2,3])\n",
    "data"
   ]
  },
  {
   "cell_type": "code",
   "execution_count": 51,
   "id": "429120fb-aa24-45d9-aeb6-bb63354285f2",
   "metadata": {},
   "outputs": [],
   "source": [
    "data1 ='36'\n",
    "data2 = 2"
   ]
  },
  {
   "cell_type": "code",
   "execution_count": 49,
   "id": "5b4da319-bb76-497c-864a-e09485d1b098",
   "metadata": {},
   "outputs": [
    {
     "data": {
      "text/plain": [
       "18.0"
      ]
     },
     "execution_count": 49,
     "metadata": {},
     "output_type": "execute_result"
    }
   ],
   "source": [
    "result = int(data1)/data2\n",
    "result"
   ]
  },
  {
   "cell_type": "code",
   "execution_count": 53,
   "id": "1631f8ad-8eea-418f-a730-e21d8488fe0a",
   "metadata": {},
   "outputs": [
    {
     "data": {
      "text/plain": [
       "18.0"
      ]
     },
     "execution_count": 53,
     "metadata": {},
     "output_type": "execute_result"
    }
   ],
   "source": [
    "result = float(data1)/data2\n",
    "result"
   ]
  },
  {
   "cell_type": "code",
   "execution_count": 67,
   "id": "3e93ebdb-5229-4840-8eb6-f3aead615957",
   "metadata": {},
   "outputs": [],
   "source": [
    "x = [2,34,40,5,6,0,3,4,7,11]\n"
   ]
  },
  {
   "cell_type": "code",
   "execution_count": 69,
   "id": "cf9277bb-2428-4ba1-9638-a3cb09d8b175",
   "metadata": {},
   "outputs": [
    {
     "data": {
      "text/plain": [
       "[2, 34, 40, 5, 6, 0, 3, 4, 7, 11]"
      ]
     },
     "execution_count": 69,
     "metadata": {},
     "output_type": "execute_result"
    }
   ],
   "source": [
    "a = x[:5]\n",
    "b = x[5:]\n",
    "b.sort()\n",
    "x = a+b\n",
    "x"
   ]
  },
  {
   "cell_type": "code",
   "execution_count": null,
   "id": "8a3a0e32-5993-4679-9926-a4e06d4284ed",
   "metadata": {},
   "outputs": [],
   "source": [
    "\n"
   ]
  }
 ],
 "metadata": {
  "kernelspec": {
   "display_name": "Python 3 (ipykernel)",
   "language": "python",
   "name": "python3"
  },
  "language_info": {
   "codemirror_mode": {
    "name": "ipython",
    "version": 3
   },
   "file_extension": ".py",
   "mimetype": "text/x-python",
   "name": "python",
   "nbconvert_exporter": "python",
   "pygments_lexer": "ipython3",
   "version": "3.12.4"
  }
 },
 "nbformat": 4,
 "nbformat_minor": 5
}
