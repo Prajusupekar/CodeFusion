{
 "cells": [
  {
   "cell_type": "code",
   "execution_count": 2,
   "id": "241bc2c8-7d2f-4a67-9d7f-70f1e335d2ba",
   "metadata": {},
   "outputs": [],
   "source": [
    "# GUI graphical user interface"
   ]
  },
  {
   "cell_type": "code",
   "execution_count": 4,
   "id": "85a41a2e-5f42-4943-a337-b156359f7264",
   "metadata": {},
   "outputs": [],
   "source": [
    "import tkinter as tk"
   ]
  },
  {
   "cell_type": "code",
   "execution_count": 36,
   "id": "60b55c1f-8f35-4121-a685-674d1a691df2",
   "metadata": {},
   "outputs": [],
   "source": [
    "top = tk.Tk()\n",
    "\n",
    "top.title('My First App')\n",
    "top.geometry('500x500')\n",
    "\n",
    "data = tk.IntVar()  # interger variable\n",
    "\n",
    "# function\n",
    "def show():\n",
    "    num = data.get()\n",
    "    result = num*num\n",
    "    l2 = tk.Label(top, text = \"Square is: %i\" %result).place(x =50,y = 200)\n",
    "\n",
    "l = tk.Label(top, text = \"INPUT:\").place(x = 20,y = 100)\n",
    "e = tk.Entry(top,textvariable = data).place(x = 100, y = 100)\n",
    "b = tk.Button(top,text = \"Square:\", command= show).place(x = 50,y = 150)\n",
    "top.mainloop()"
   ]
  },
  {
   "cell_type": "code",
   "execution_count": 48,
   "id": "83f8dacb-74db-498e-a2a3-06a9a8247ea9",
   "metadata": {},
   "outputs": [],
   "source": [
    "# app for multiplication of two numbers\n",
    "\n",
    "top = tk.Tk()\n",
    "\n",
    "top.title('My Second  App')\n",
    "top.geometry('700x700')\n",
    "\n",
    "data1 = tk.IntVar()\n",
    "data2 = tk.IntVar()\n",
    "\n",
    "def show():\n",
    "    result = data1.get()*data2.get()\n",
    "    l3 = tk.Label(top, text = \"Multiplication is: %i\" %result).place(x =50,y = 200)\n",
    "\n",
    "l1 = tk.Label(top, text = \"INPUT 1:\").place(x = 20,y = 100)\n",
    "e1 = tk.Entry(top,textvariable = data1).place(x = 100, y = 100)\n",
    "l2 = tk.Label(top, text = \"INPUT 2:\").place(x = 180,y = 100)\n",
    "e2 = tk.Entry(top,textvariable = data2).place(x = 250, y = 100)\n",
    "b = tk.Button(top,text = \"Multiplication:\", command= show).place(x = 100,y = 150)\n",
    "top.mainloop()"
   ]
  },
  {
   "cell_type": "code",
   "execution_count": 19,
   "id": "fee6bac6-8ea8-4bc9-90a6-793398745099",
   "metadata": {},
   "outputs": [],
   "source": []
  },
  {
   "cell_type": "code",
   "execution_count": null,
   "id": "2e9cdbb1-b661-421d-8783-f7e5459ced53",
   "metadata": {},
   "outputs": [],
   "source": []
  },
  {
   "cell_type": "code",
   "execution_count": null,
   "id": "9575896d-63c7-490e-92ab-31bdfc1814fd",
   "metadata": {},
   "outputs": [],
   "source": []
  },
  {
   "cell_type": "code",
   "execution_count": null,
   "id": "fd684657-89f5-402a-96bd-e17c433d2f6b",
   "metadata": {},
   "outputs": [],
   "source": []
  },
  {
   "cell_type": "code",
   "execution_count": null,
   "id": "48446dab-de4a-448b-b887-937622a0b31a",
   "metadata": {},
   "outputs": [],
   "source": []
  },
  {
   "cell_type": "code",
   "execution_count": null,
   "id": "393db4cd-f9e1-4a59-a8b2-9018c4a1c7f7",
   "metadata": {},
   "outputs": [],
   "source": []
  },
  {
   "cell_type": "code",
   "execution_count": null,
   "id": "47c751d0-708f-4c05-8289-e2d91a042f4b",
   "metadata": {},
   "outputs": [],
   "source": []
  }
 ],
 "metadata": {
  "kernelspec": {
   "display_name": "Python 3 (ipykernel)",
   "language": "python",
   "name": "python3"
  },
  "language_info": {
   "codemirror_mode": {
    "name": "ipython",
    "version": 3
   },
   "file_extension": ".py",
   "mimetype": "text/x-python",
   "name": "python",
   "nbconvert_exporter": "python",
   "pygments_lexer": "ipython3",
   "version": "3.12.4"
  }
 },
 "nbformat": 4,
 "nbformat_minor": 5
}
