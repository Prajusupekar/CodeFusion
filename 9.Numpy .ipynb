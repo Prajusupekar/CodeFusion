{
 "cells": [
  {
   "cell_type": "code",
   "execution_count": 1,
   "id": "7b6eaf67-5ffc-4d95-b622-f10b3966ffad",
   "metadata": {},
   "outputs": [],
   "source": [
    "import numpy as np"
   ]
  },
  {
   "cell_type": "code",
   "execution_count": 2,
   "id": "1313862e-92c3-4e28-a1d9-ed42166f5fe2",
   "metadata": {},
   "outputs": [],
   "source": [
    "num = np.array([13,56,34,78,10])"
   ]
  },
  {
   "cell_type": "code",
   "execution_count": 3,
   "id": "895664bf-a2ee-4091-97d2-d8b0fdc1b29c",
   "metadata": {},
   "outputs": [
    {
     "name": "stdout",
     "output_type": "stream",
     "text": [
      "[13 56 34 78 10]\n"
     ]
    }
   ],
   "source": [
    "print(num)"
   ]
  },
  {
   "cell_type": "code",
   "execution_count": 4,
   "id": "a3d92c51-c80b-4fb4-a236-6ec95922ac5d",
   "metadata": {},
   "outputs": [
    {
     "data": {
      "text/plain": [
       "array([13, 56, 34, 78, 10])"
      ]
     },
     "execution_count": 4,
     "metadata": {},
     "output_type": "execute_result"
    }
   ],
   "source": [
    "num"
   ]
  },
  {
   "cell_type": "code",
   "execution_count": 5,
   "id": "f9f8a630-2d94-467f-b255-0816e81a1887",
   "metadata": {},
   "outputs": [
    {
     "data": {
      "text/plain": [
       "dtype('int32')"
      ]
     },
     "execution_count": 5,
     "metadata": {},
     "output_type": "execute_result"
    }
   ],
   "source": [
    "num.dtype"
   ]
  },
  {
   "cell_type": "code",
   "execution_count": 6,
   "id": "784e6212-56ab-4f04-abca-c9a5286d0b2d",
   "metadata": {},
   "outputs": [
    {
     "data": {
      "text/plain": [
       "numpy.ndarray"
      ]
     },
     "execution_count": 6,
     "metadata": {},
     "output_type": "execute_result"
    }
   ],
   "source": [
    "type(num)"
   ]
  },
  {
   "cell_type": "code",
   "execution_count": 7,
   "id": "674ae6ec-63a3-4a67-b72b-9423c85ab012",
   "metadata": {},
   "outputs": [
    {
     "data": {
      "text/plain": [
       "1"
      ]
     },
     "execution_count": 7,
     "metadata": {},
     "output_type": "execute_result"
    }
   ],
   "source": [
    "num.ndim"
   ]
  },
  {
   "cell_type": "code",
   "execution_count": 8,
   "id": "fac5663c-91bd-4639-86c5-cb323636bb0c",
   "metadata": {},
   "outputs": [],
   "source": [
    "num2 =np.array(['praju',26 ,45, 65, 35,0.45])"
   ]
  },
  {
   "cell_type": "code",
   "execution_count": 9,
   "id": "c349846d-30d0-4e52-9bf8-677de522b3a9",
   "metadata": {},
   "outputs": [
    {
     "data": {
      "text/plain": [
       "dtype('<U32')"
      ]
     },
     "execution_count": 9,
     "metadata": {},
     "output_type": "execute_result"
    }
   ],
   "source": [
    "num2.dtype"
   ]
  },
  {
   "cell_type": "code",
   "execution_count": 10,
   "id": "d8fc7685-a8f6-4fe9-8786-7684c1d4c34f",
   "metadata": {},
   "outputs": [
    {
     "data": {
      "text/plain": [
       "array(['praju', '26', '45', '65', '35', '0.45'], dtype='<U32')"
      ]
     },
     "execution_count": 10,
     "metadata": {},
     "output_type": "execute_result"
    }
   ],
   "source": [
    "num2"
   ]
  },
  {
   "cell_type": "code",
   "execution_count": 11,
   "id": "f2b45ad9-c57b-47fc-84a2-0206d42eccb1",
   "metadata": {},
   "outputs": [
    {
     "data": {
      "text/plain": [
       "'26'"
      ]
     },
     "execution_count": 11,
     "metadata": {},
     "output_type": "execute_result"
    }
   ],
   "source": [
    "num2[1]"
   ]
  },
  {
   "cell_type": "code",
   "execution_count": 12,
   "id": "b9a168ae-2d0a-4262-8c94-f4f13c84e712",
   "metadata": {},
   "outputs": [
    {
     "data": {
      "text/plain": [
       "array([0., 0., 0., 0., 0., 0., 0., 0., 0., 0.])"
      ]
     },
     "execution_count": 12,
     "metadata": {},
     "output_type": "execute_result"
    }
   ],
   "source": [
    "np.zeros(10)"
   ]
  },
  {
   "cell_type": "code",
   "execution_count": 13,
   "id": "8fe0cfca-e1b9-4e8a-8d9f-90cc57a8d054",
   "metadata": {},
   "outputs": [
    {
     "data": {
      "text/plain": [
       "array([1., 1., 1., 1., 1.])"
      ]
     },
     "execution_count": 13,
     "metadata": {},
     "output_type": "execute_result"
    }
   ],
   "source": [
    "np.ones(5)"
   ]
  },
  {
   "cell_type": "code",
   "execution_count": 14,
   "id": "e5b6a2e6-40d9-4533-9913-fe62dae75ce9",
   "metadata": {},
   "outputs": [
    {
     "data": {
      "text/plain": [
       "array([1.  , 1.15, 1.3 , 1.45, 1.6 , 1.75, 1.9 ])"
      ]
     },
     "execution_count": 14,
     "metadata": {},
     "output_type": "execute_result"
    }
   ],
   "source": [
    "np.arange(1,2,0.15)"
   ]
  },
  {
   "cell_type": "code",
   "execution_count": 15,
   "id": "450415f5-9f5b-4960-adb6-a7466129b077",
   "metadata": {},
   "outputs": [
    {
     "data": {
      "text/plain": [
       "array([23, 66, 44, 88, 20])"
      ]
     },
     "execution_count": 15,
     "metadata": {},
     "output_type": "execute_result"
    }
   ],
   "source": [
    "num+10"
   ]
  },
  {
   "cell_type": "code",
   "execution_count": 16,
   "id": "ba00bd72-0d2c-4d94-b96a-80b886298893",
   "metadata": {},
   "outputs": [],
   "source": [
    "num3 = np.array([12, 45, 67, 11, 10])"
   ]
  },
  {
   "cell_type": "code",
   "execution_count": 17,
   "id": "caddfcc7-14aa-473b-b599-ef903a3465c9",
   "metadata": {},
   "outputs": [
    {
     "data": {
      "text/plain": [
       "array([ 25, 101, 101,  89,  20])"
      ]
     },
     "execution_count": 17,
     "metadata": {},
     "output_type": "execute_result"
    }
   ],
   "source": [
    "num+num3"
   ]
  },
  {
   "cell_type": "markdown",
   "id": "2344bd29-4d01-4a71-9960-af01c6dbb21a",
   "metadata": {},
   "source": [
    "# 2d arrays"
   ]
  },
  {
   "cell_type": "code",
   "execution_count": 19,
   "id": "c8b99dbc-3880-43bd-a2b6-eed2e62f0d9b",
   "metadata": {},
   "outputs": [],
   "source": [
    "arr = np.array([[1,2,3],[4,5,6],[7,8,9],[12,45,10]])"
   ]
  },
  {
   "cell_type": "code",
   "execution_count": 20,
   "id": "518ec5e4-b84a-4136-af94-faee49cf4359",
   "metadata": {},
   "outputs": [
    {
     "data": {
      "text/plain": [
       "array([[ 1,  2,  3],\n",
       "       [ 4,  5,  6],\n",
       "       [ 7,  8,  9],\n",
       "       [12, 45, 10]])"
      ]
     },
     "execution_count": 20,
     "metadata": {},
     "output_type": "execute_result"
    }
   ],
   "source": [
    "arr"
   ]
  },
  {
   "cell_type": "code",
   "execution_count": 21,
   "id": "51702c31-f132-4934-9946-3dc93e322312",
   "metadata": {},
   "outputs": [
    {
     "data": {
      "text/plain": [
       "2"
      ]
     },
     "execution_count": 21,
     "metadata": {},
     "output_type": "execute_result"
    }
   ],
   "source": [
    "arr.ndim"
   ]
  },
  {
   "cell_type": "code",
   "execution_count": 22,
   "id": "ff07ff2c-d7d4-4f80-a394-5b852d3a3e05",
   "metadata": {},
   "outputs": [
    {
     "data": {
      "text/plain": [
       "(4, 3)"
      ]
     },
     "execution_count": 22,
     "metadata": {},
     "output_type": "execute_result"
    }
   ],
   "source": [
    "arr.shape"
   ]
  },
  {
   "cell_type": "code",
   "execution_count": 23,
   "id": "c44b66fb-fef5-4c62-b456-ce7a34c2842c",
   "metadata": {},
   "outputs": [
    {
     "data": {
      "text/plain": [
       "12"
      ]
     },
     "execution_count": 23,
     "metadata": {},
     "output_type": "execute_result"
    }
   ],
   "source": [
    "arr.size"
   ]
  },
  {
   "cell_type": "code",
   "execution_count": 24,
   "id": "7068a2a2-3b33-445c-bcdc-33620b1a6d78",
   "metadata": {},
   "outputs": [
    {
     "data": {
      "text/plain": [
       "array([[ 1,  2,  3,  4],\n",
       "       [ 5,  6,  7,  8],\n",
       "       [ 9, 12, 45, 10]])"
      ]
     },
     "execution_count": 24,
     "metadata": {},
     "output_type": "execute_result"
    }
   ],
   "source": [
    "arr.reshape(3,4)"
   ]
  },
  {
   "cell_type": "code",
   "execution_count": 25,
   "id": "e1c05710-446b-492e-833d-c626ebc64711",
   "metadata": {},
   "outputs": [
    {
     "data": {
      "text/plain": [
       "array([[ 1,  2],\n",
       "       [ 3,  4],\n",
       "       [ 5,  6],\n",
       "       [ 7,  8],\n",
       "       [ 9, 12],\n",
       "       [45, 10]])"
      ]
     },
     "execution_count": 25,
     "metadata": {},
     "output_type": "execute_result"
    }
   ],
   "source": [
    "arr.reshape(6,2)"
   ]
  },
  {
   "cell_type": "code",
   "execution_count": 26,
   "id": "a6152fb3-dde7-4534-a0ba-e16369b8bf76",
   "metadata": {},
   "outputs": [
    {
     "data": {
      "text/plain": [
       "array([ 1,  2,  3,  4,  5,  6,  7,  8,  9, 12, 45, 10])"
      ]
     },
     "execution_count": 26,
     "metadata": {},
     "output_type": "execute_result"
    }
   ],
   "source": [
    "arr.flatten()"
   ]
  },
  {
   "cell_type": "code",
   "execution_count": 27,
   "id": "1c658529-d952-4fdf-9bf8-5c701d47a3bc",
   "metadata": {},
   "outputs": [
    {
     "data": {
      "text/plain": [
       "array([[[ 1,  2],\n",
       "        [ 3,  4]],\n",
       "\n",
       "       [[ 5,  6],\n",
       "        [ 7,  8]],\n",
       "\n",
       "       [[ 9, 12],\n",
       "        [45, 10]]])"
      ]
     },
     "execution_count": 27,
     "metadata": {},
     "output_type": "execute_result"
    }
   ],
   "source": [
    "arr.reshape(3,2,2)    # reshape array 2 dimentinal into 3 dimensional "
   ]
  },
  {
   "cell_type": "code",
   "execution_count": 29,
   "id": "93174a77-f37c-467e-8d4a-1395e68d36dd",
   "metadata": {},
   "outputs": [
    {
     "data": {
      "text/plain": [
       "2"
      ]
     },
     "execution_count": 29,
     "metadata": {},
     "output_type": "execute_result"
    }
   ],
   "source": [
    "arr.ndim"
   ]
  },
  {
   "cell_type": "code",
   "execution_count": 31,
   "id": "9bbbfcf9-c534-4a28-9124-6f2016cea792",
   "metadata": {},
   "outputs": [
    {
     "data": {
      "text/plain": [
       "array([[ 1,  2,  3,  4,  5,  6],\n",
       "       [ 7,  8,  9, 12, 45, 10]])"
      ]
     },
     "execution_count": 31,
     "metadata": {},
     "output_type": "execute_result"
    }
   ],
   "source": [
    "arr.reshape(2,-1) "
   ]
  },
  {
   "cell_type": "code",
   "execution_count": 33,
   "id": "d2a13e49-7349-44f1-b9d2-c217ca968a92",
   "metadata": {},
   "outputs": [
    {
     "data": {
      "text/plain": [
       "array([[ 1,  2,  3],\n",
       "       [ 4,  5,  6],\n",
       "       [ 7,  8,  9],\n",
       "       [12, 45, 10]])"
      ]
     },
     "execution_count": 33,
     "metadata": {},
     "output_type": "execute_result"
    }
   ],
   "source": [
    "arr"
   ]
  },
  {
   "cell_type": "code",
   "execution_count": 35,
   "id": "a9763e62-7025-4872-be50-a148fa1fef7b",
   "metadata": {},
   "outputs": [],
   "source": [
    "arr1 = ([[1,2,3],[4,5,6],[7,8,9]])\n",
    "arr2 = ([[1,12,3],[14,35,6],[27,18,9]])"
   ]
  },
  {
   "cell_type": "code",
   "execution_count": 37,
   "id": "e292e081-aa6d-48d4-93bb-b11b0b42ae5b",
   "metadata": {},
   "outputs": [
    {
     "data": {
      "text/plain": [
       "6.66133814775094e-16"
      ]
     },
     "execution_count": 37,
     "metadata": {},
     "output_type": "execute_result"
    }
   ],
   "source": [
    "np.linalg.det(arr1)"
   ]
  },
  {
   "cell_type": "code",
   "execution_count": 39,
   "id": "1393ac22-e184-4397-b35a-0c3b1d9200a9",
   "metadata": {},
   "outputs": [
    {
     "data": {
      "text/plain": [
       "array([[110, 136,  42],\n",
       "       [236, 331,  96],\n",
       "       [362, 526, 150]])"
      ]
     },
     "execution_count": 39,
     "metadata": {},
     "output_type": "execute_result"
    }
   ],
   "source": [
    "np.dot(arr1,arr2)"
   ]
  },
  {
   "cell_type": "code",
   "execution_count": 41,
   "id": "425a0299-a2bd-42e2-ac73-0bd1f6252d5c",
   "metadata": {},
   "outputs": [
    {
     "data": {
      "text/plain": [
       "array([[-4.50359963e+15,  9.00719925e+15, -4.50359963e+15],\n",
       "       [ 9.00719925e+15, -1.80143985e+16,  9.00719925e+15],\n",
       "       [-4.50359963e+15,  9.00719925e+15, -4.50359963e+15]])"
      ]
     },
     "execution_count": 41,
     "metadata": {},
     "output_type": "execute_result"
    }
   ],
   "source": [
    "np.linalg.inv(arr1)"
   ]
  },
  {
   "cell_type": "code",
   "execution_count": 43,
   "id": "b3cd75de-72c7-42fa-b12a-4030cb77f4ca",
   "metadata": {},
   "outputs": [
    {
     "data": {
      "text/plain": [
       "array([1, 5, 9])"
      ]
     },
     "execution_count": 43,
     "metadata": {},
     "output_type": "execute_result"
    }
   ],
   "source": [
    "np.diagonal(arr)"
   ]
  },
  {
   "cell_type": "code",
   "execution_count": 47,
   "id": "e2c6a637-79fa-414c-9094-303f57858b80",
   "metadata": {},
   "outputs": [],
   "source": [
    "#help(np)"
   ]
  }
 ],
 "metadata": {
  "kernelspec": {
   "display_name": "Python 3 (ipykernel)",
   "language": "python",
   "name": "python3"
  },
  "language_info": {
   "codemirror_mode": {
    "name": "ipython",
    "version": 3
   },
   "file_extension": ".py",
   "mimetype": "text/x-python",
   "name": "python",
   "nbconvert_exporter": "python",
   "pygments_lexer": "ipython3",
   "version": "3.12.4"
  }
 },
 "nbformat": 4,
 "nbformat_minor": 5
}
