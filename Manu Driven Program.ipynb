{
 "cells": [
  {
   "cell_type": "markdown",
   "id": "2407177f-fde1-43ff-b0f7-6b785b4dd014",
   "metadata": {},
   "source": [
    "### Manu driven program"
   ]
  },
  {
   "cell_type": "code",
   "execution_count": 15,
   "id": "215c067f-506e-4ef5-a784-2c792cba2e72",
   "metadata": {},
   "outputs": [
    {
     "name": "stdin",
     "output_type": "stream",
     "text": [
      "Enter the number 5\n"
     ]
    },
    {
     "name": "stdout",
     "output_type": "stream",
     "text": [
      "MENU:\n",
      "1.SQURE\n",
      "2.CUBE\n",
      "3.+VE OR -VE\n"
     ]
    },
    {
     "name": "stdin",
     "output_type": "stream",
     "text": [
      "SELECT YOUR CHOICE 2\n"
     ]
    },
    {
     "name": "stdout",
     "output_type": "stream",
     "text": [
      "Cube is : 125\n"
     ]
    }
   ],
   "source": [
    "num = int(input('Enter the number'))\n",
    "\n",
    "print('MENU:\\n1.SQURE\\n2.CUBE\\n3.+VE OR -VE')\n",
    "\n",
    "ch = int(input('SELECT YOUR CHOICE'))\n",
    "\n",
    "if ch == 1:\n",
    "    print('Squre is :',num*num)\n",
    "elif ch == 2:\n",
    "    print('Cube is :',num ** 3)\n",
    "elif ch == 3:\n",
    "    if num >0:\n",
    "        print('+VE')\n",
    "    else:\n",
    "        print('-ve')\n",
    "else:\n",
    "    print('Invalid Choice')"
   ]
  },
  {
   "cell_type": "code",
   "execution_count": 16,
   "id": "b23ae262-bf7e-4b3a-8f8d-074152521f4a",
   "metadata": {},
   "outputs": [
    {
     "name": "stdin",
     "output_type": "stream",
     "text": [
      "Enter first number 15\n",
      "Enter second number 10\n"
     ]
    },
    {
     "name": "stdout",
     "output_type": "stream",
     "text": [
      "MENU:\n",
      "1.Addition\n",
      "2.Substraction\n",
      "3. Floor_Div\n",
      "4.Greater Num\n"
     ]
    },
    {
     "name": "stdin",
     "output_type": "stream",
     "text": [
      "SELECT YOUR CHOICE 3\n"
     ]
    },
    {
     "name": "stdout",
     "output_type": "stream",
     "text": [
      "Floor Division is : 1\n"
     ]
    }
   ],
   "source": [
    "# read two numbers and perform add,sub,floor div,\n",
    "# which one is greater based on the choice\n",
    "\n",
    "num1 = int(input('Enter first number'))\n",
    "num2 = int(input('Enter second number'))\n",
    "\n",
    "print('MENU:\\n1.Addition\\n2.Substraction\\n3. Floor_Div\\n4.Greater Num')\n",
    "\n",
    "ch = int(input('SELECT YOUR CHOICE'))\n",
    "\n",
    "if ch == 1:\n",
    "    print('Addition is:',num1+num2)\n",
    "elif ch == 2:\n",
    "    print('Substraction is:',num1-num2)\n",
    "elif ch == 3:\n",
    "    print('Floor Division is :',num1//num2)\n",
    "elif ch == 4:\n",
    "    if num1>num2:\n",
    "        print('Grteater is:',num1)\n",
    "    else:\n",
    "        print('Greater is:',num2)\n",
    "else:\n",
    "    print('Invalid Choice')\n",
    "\n"
   ]
  },
  {
   "cell_type": "code",
   "execution_count": 17,
   "id": "5d6192f4-ee12-48b4-8706-2b82107ac8c0",
   "metadata": {},
   "outputs": [
    {
     "name": "stdin",
     "output_type": "stream",
     "text": [
      "Enter the string: prajakta\n"
     ]
    },
    {
     "name": "stdout",
     "output_type": "stream",
     "text": [
      "MENU:\n",
      "1.lower\n",
      "2.upper\n",
      "3.title\n",
      "4.lenth\n",
      "5.replace\n",
      "6.palendrome\n"
     ]
    },
    {
     "name": "stdin",
     "output_type": "stream",
     "text": [
      "SELECT YOUR CHOICE 4\n"
     ]
    },
    {
     "name": "stdout",
     "output_type": "stream",
     "text": [
      "Lenth of string: 8\n"
     ]
    }
   ],
   "source": [
    "# read the string\n",
    "# lower,upper,title,how many alphabets there,replace\n",
    "\n",
    "name = input('Enter the string:')\n",
    "\n",
    "print('MENU:\\n1.lower\\n2.upper\\n3.title\\n4.lenth\\n5.replace\\n6.palendrome')\n",
    "\n",
    "ch = ch = int(input('SELECT YOUR CHOICE'))\n",
    "\n",
    "if ch ==1:\n",
    "    print('Lowercase:',name.lower())\n",
    "elif ch == 2:\n",
    "    print('Uppercase:',name.upper())\n",
    "elif ch == 3:\n",
    "    print('Titlecase:',name.title())\n",
    "elif ch == 4:\n",
    "    print('Lenth of string:',len(name))\n",
    "elif ch == 5:\n",
    "    to_rep = input('What to replace')\n",
    "    rep_with = input('Replace with')\n",
    "    name.replace(to_rep,rep_with)\n",
    "    print(name.replace(to_rep,rep_with))\n",
    "elif ch == 6:\n",
    "    name = name.lower()\n",
    "    if name == name[::-1]:\n",
    "        print('Plendrome')\n",
    "    else:\n",
    "        print(' Not Palendrome')\n",
    "else:\n",
    "    print('Invalid choice')"
   ]
  }
 ],
 "metadata": {
  "kernelspec": {
   "display_name": "Python 3 (ipykernel)",
   "language": "python",
   "name": "python3"
  },
  "language_info": {
   "codemirror_mode": {
    "name": "ipython",
    "version": 3
   },
   "file_extension": ".py",
   "mimetype": "text/x-python",
   "name": "python",
   "nbconvert_exporter": "python",
   "pygments_lexer": "ipython3",
   "version": "3.12.4"
  }
 },
 "nbformat": 4,
 "nbformat_minor": 5
}
