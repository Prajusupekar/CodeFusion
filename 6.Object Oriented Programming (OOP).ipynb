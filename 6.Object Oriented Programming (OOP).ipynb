{
 "cells": [
  {
   "cell_type": "code",
   "execution_count": 1,
   "id": "0719caa3-1d85-4218-8286-ee0ea71e47e8",
   "metadata": {},
   "outputs": [],
   "source": [
    "class Employee:\n",
    "    pass"
   ]
  },
  {
   "cell_type": "code",
   "execution_count": 2,
   "id": "2caf20f5-a015-442c-a5dc-96a4a432396a",
   "metadata": {},
   "outputs": [],
   "source": [
    "emp1 = Employee()\n",
    "emp2 = Employee()"
   ]
  },
  {
   "cell_type": "code",
   "execution_count": 3,
   "id": "e51f8f3f-a01b-4355-a861-daedca131fe3",
   "metadata": {},
   "outputs": [
    {
     "name": "stdout",
     "output_type": "stream",
     "text": [
      "<__main__.Employee object at 0x000001D221160EC0>\n"
     ]
    }
   ],
   "source": [
    "print(emp1)"
   ]
  },
  {
   "cell_type": "code",
   "execution_count": 4,
   "id": "fed2e47b-4534-4f3e-ac22-7724bbc2d059",
   "metadata": {},
   "outputs": [
    {
     "name": "stdout",
     "output_type": "stream",
     "text": [
      "<__main__.Employee object at 0x000001D221163CB0>\n"
     ]
    }
   ],
   "source": [
    "print(emp2)"
   ]
  },
  {
   "cell_type": "code",
   "execution_count": 5,
   "id": "6d18a2c3-bbb3-478d-9a6c-b13683a309bc",
   "metadata": {},
   "outputs": [],
   "source": [
    "emp1.first ='Riya'      # first ,last are instance variable\n",
    "emp1.last = 'Banarji'\n",
    "emp1.sal = 51000"
   ]
  },
  {
   "cell_type": "code",
   "execution_count": 6,
   "id": "2ffa56b2-d4d9-45f5-830c-4e8421b0fe6a",
   "metadata": {},
   "outputs": [],
   "source": [
    "emp2.first ='Natasha'      \n",
    "emp2.last = 'Sharma'\n",
    "emp2.sal = 52000"
   ]
  },
  {
   "cell_type": "code",
   "execution_count": 7,
   "id": "a4a20da3-8cd0-4509-8c1e-e5324324f8e6",
   "metadata": {},
   "outputs": [
    {
     "name": "stdout",
     "output_type": "stream",
     "text": [
      "Banarji\n"
     ]
    }
   ],
   "source": [
    "print(emp1.last)"
   ]
  },
  {
   "cell_type": "code",
   "execution_count": 8,
   "id": "1c7d794d-de26-4e58-9b57-09c364959558",
   "metadata": {},
   "outputs": [
    {
     "data": {
      "text/plain": [
       "52000"
      ]
     },
     "execution_count": 8,
     "metadata": {},
     "output_type": "execute_result"
    }
   ],
   "source": [
    "emp2.sal"
   ]
  },
  {
   "cell_type": "code",
   "execution_count": 9,
   "id": "6a262cdd-9140-41c4-8319-154fd1c4017c",
   "metadata": {},
   "outputs": [],
   "source": [
    "class Employee:\n",
    "    \n",
    "    def __init__(self, first, last, sal):\n",
    "        self.first = first\n",
    "        self.last = last\n",
    "        self.sal = sal\n",
    "\n",
    "    def yrsal(self):\n",
    "        s = self.sal * 12\n",
    "        return s"
   ]
  },
  {
   "cell_type": "code",
   "execution_count": 10,
   "id": "0a89b81e-768b-4866-aa80-880357682847",
   "metadata": {},
   "outputs": [],
   "source": [
    "emp1 = Employee('Riya','Banerjee',51000)"
   ]
  },
  {
   "cell_type": "code",
   "execution_count": 11,
   "id": "4d9eb0c4-84c3-429a-9a0b-f453798ccbd8",
   "metadata": {},
   "outputs": [
    {
     "name": "stdout",
     "output_type": "stream",
     "text": [
      "51000\n"
     ]
    }
   ],
   "source": [
    "print(emp1.sal)"
   ]
  },
  {
   "cell_type": "code",
   "execution_count": 12,
   "id": "e7dfb820-10d6-4a2d-9f07-06ecfc53cdd6",
   "metadata": {},
   "outputs": [],
   "source": [
    "emp2 = Employee('Natasha','Sharma',52000)"
   ]
  },
  {
   "cell_type": "code",
   "execution_count": 13,
   "id": "06c86813-5174-451c-9219-e5afab96623a",
   "metadata": {},
   "outputs": [
    {
     "name": "stdout",
     "output_type": "stream",
     "text": [
      "Natasha\n"
     ]
    }
   ],
   "source": [
    "print(emp2.first)"
   ]
  },
  {
   "cell_type": "code",
   "execution_count": 14,
   "id": "516dbd84-4408-47a5-93f0-f7a92c5dbf0e",
   "metadata": {},
   "outputs": [
    {
     "name": "stdout",
     "output_type": "stream",
     "text": [
      "Help on class Employee in module __main__:\n",
      "\n",
      "class Employee(builtins.object)\n",
      " |  Employee(first, last, sal)\n",
      " |\n",
      " |  Methods defined here:\n",
      " |\n",
      " |  __init__(self, first, last, sal)\n",
      " |      Initialize self.  See help(type(self)) for accurate signature.\n",
      " |\n",
      " |  yrsal(self)\n",
      " |\n",
      " |  ----------------------------------------------------------------------\n",
      " |  Data descriptors defined here:\n",
      " |\n",
      " |  __dict__\n",
      " |      dictionary for instance variables\n",
      " |\n",
      " |  __weakref__\n",
      " |      list of weak references to the object\n",
      "\n"
     ]
    }
   ],
   "source": [
    "help(Employee)\n",
    "\n"
   ]
  },
  {
   "cell_type": "code",
   "execution_count": 15,
   "id": "d800a6c3-a8f4-43e8-957d-0bc717d8bb12",
   "metadata": {},
   "outputs": [
    {
     "data": {
      "text/plain": [
       "612000"
      ]
     },
     "execution_count": 15,
     "metadata": {},
     "output_type": "execute_result"
    }
   ],
   "source": [
    "emp1.yrsal()"
   ]
  },
  {
   "cell_type": "code",
   "execution_count": 16,
   "id": "2bbc6185-3c0f-4053-bcee-68d3dbf84386",
   "metadata": {},
   "outputs": [
    {
     "data": {
      "text/plain": [
       "624000"
      ]
     },
     "execution_count": 16,
     "metadata": {},
     "output_type": "execute_result"
    }
   ],
   "source": [
    "emp2.yrsal()"
   ]
  },
  {
   "cell_type": "markdown",
   "id": "bc61322e-a95a-4327-80e2-c00ca0ae4d51",
   "metadata": {},
   "source": [
    "## Encapsulation"
   ]
  },
  {
   "cell_type": "code",
   "execution_count": 18,
   "id": "e744c62c-9827-4db1-a590-a7fd51dd3805",
   "metadata": {},
   "outputs": [],
   "source": [
    "class Employee:\n",
    "    \n",
    "    def __init__(self, first, last, sal):\n",
    "        self.first = first\n",
    "        self.last = last\n",
    "        self.__sal = sal  #private variable\n",
    "\n",
    "    def showsal(self):\n",
    "        return f\"salary is {self.__sal}\""
   ]
  },
  {
   "cell_type": "code",
   "execution_count": 19,
   "id": "dd6d1129-d9b9-47ef-b19e-a51021926656",
   "metadata": {},
   "outputs": [],
   "source": [
    "emp1 = Employee('Riya','Banerjee',51000)\n",
    "emp2 = Employee('Natasha','Sharma',52000)"
   ]
  },
  {
   "cell_type": "code",
   "execution_count": 20,
   "id": "c03703ae-ce2a-430e-bb7d-1c3cdf60a497",
   "metadata": {},
   "outputs": [
    {
     "data": {
      "text/plain": [
       "'Riya'"
      ]
     },
     "execution_count": 20,
     "metadata": {},
     "output_type": "execute_result"
    }
   ],
   "source": [
    "emp1.first"
   ]
  },
  {
   "cell_type": "code",
   "execution_count": 21,
   "id": "95b750ae-a6b3-4ca4-9592-43273567e33d",
   "metadata": {},
   "outputs": [
    {
     "ename": "AttributeError",
     "evalue": "'Employee' object has no attribute 'sal'",
     "output_type": "error",
     "traceback": [
      "\u001b[1;31m---------------------------------------------------------------------------\u001b[0m",
      "\u001b[1;31mAttributeError\u001b[0m                            Traceback (most recent call last)",
      "Cell \u001b[1;32mIn[21], line 1\u001b[0m\n\u001b[1;32m----> 1\u001b[0m emp1\u001b[38;5;241m.\u001b[39msal\n",
      "\u001b[1;31mAttributeError\u001b[0m: 'Employee' object has no attribute 'sal'"
     ]
    }
   ],
   "source": [
    "emp1.sal"
   ]
  },
  {
   "cell_type": "code",
   "execution_count": 22,
   "id": "15841d3c-3c23-484d-bacd-06baad75e93e",
   "metadata": {},
   "outputs": [
    {
     "data": {
      "text/plain": [
       "'salary is 51000'"
      ]
     },
     "execution_count": 22,
     "metadata": {},
     "output_type": "execute_result"
    }
   ],
   "source": [
    "emp1.showsal()"
   ]
  },
  {
   "cell_type": "code",
   "execution_count": 24,
   "id": "c61037bd-9059-4ff2-9353-d54ad6660e72",
   "metadata": {},
   "outputs": [],
   "source": [
    "\"\"\" \n",
    "create a class called person\n",
    "objects having attributes name,age,city,hobby(3 objects)\n",
    "make city a private variable\n",
    "create a method which will show all the info upon calling\n",
    "\"\"\";"
   ]
  },
  {
   "cell_type": "code",
   "execution_count": 26,
   "id": "5271432d-d658-4430-87ad-56212fb5ef96",
   "metadata": {},
   "outputs": [],
   "source": [
    "class Person:\n",
    "    def __init__(self, name, age, city, hobby):\n",
    "        self.name = name\n",
    "        self.age = age\n",
    "        self.__city = city     #private variable\n",
    "        self.hobby = hobby  \n",
    "        \n",
    "    def info(self):\n",
    "        return f\"{self.name} {self.age} {self.__city} {self.hobby}\""
   ]
  },
  {
   "cell_type": "code",
   "execution_count": 28,
   "id": "1990fed1-a755-4c6c-9fcd-134cde9d3a03",
   "metadata": {},
   "outputs": [],
   "source": [
    "p1 = Person('Sanjeev',25,'Nashik','Reading')"
   ]
  },
  {
   "cell_type": "code",
   "execution_count": 30,
   "id": "04fa25b1-5923-417b-bccc-cf5ec8cec0d6",
   "metadata": {},
   "outputs": [
    {
     "data": {
      "text/plain": [
       "'Sanjeev 25 Nashik Reading'"
      ]
     },
     "execution_count": 30,
     "metadata": {},
     "output_type": "execute_result"
    }
   ],
   "source": [
    "p1.info()"
   ]
  },
  {
   "cell_type": "markdown",
   "id": "a15e1f10-3910-4406-b1e6-ff33e8bc76d2",
   "metadata": {},
   "source": [
    "# Inheritance"
   ]
  },
  {
   "cell_type": "code",
   "execution_count": 33,
   "id": "307d3994-830d-45fb-a80b-1c4f0a1a6a37",
   "metadata": {},
   "outputs": [],
   "source": [
    "class person:\n",
    "    insti = 'Mitu' # class variable # for every object\n",
    "\n",
    "    def __init__ (self,age,ht):\n",
    "        self.age = age\n",
    "        self.ht = ht\n",
    "\n",
    "    def show(self):\n",
    "        print('age:',self.age,'height:',self.ht,'and',self.insti)"
   ]
  },
  {
   "cell_type": "code",
   "execution_count": 35,
   "id": "8cb570a0-6703-487f-b7e8-58846f1ed9aa",
   "metadata": {},
   "outputs": [],
   "source": [
    "p1 = person(20,5.7)"
   ]
  },
  {
   "cell_type": "code",
   "execution_count": 37,
   "id": "962cd773-0c34-4d9b-bbf1-c3f3f1fc815e",
   "metadata": {},
   "outputs": [
    {
     "name": "stdout",
     "output_type": "stream",
     "text": [
      "age: 20 height: 5.7 and Mitu\n"
     ]
    }
   ],
   "source": [
    "p1.show()"
   ]
  },
  {
   "cell_type": "code",
   "execution_count": 39,
   "id": "eabef47c-f95a-4c47-9d28-bcfee8d6cfb9",
   "metadata": {},
   "outputs": [],
   "source": [
    "class Prajakta(person):\n",
    "    pass"
   ]
  },
  {
   "cell_type": "code",
   "execution_count": 41,
   "id": "d92f8a65-1ce7-4505-b350-5a518f93addf",
   "metadata": {},
   "outputs": [],
   "source": [
    "a1 = Prajakta(25,5.2)"
   ]
  },
  {
   "cell_type": "code",
   "execution_count": 43,
   "id": "cdd9f123-4e0d-4586-9620-db757be266db",
   "metadata": {},
   "outputs": [
    {
     "name": "stdout",
     "output_type": "stream",
     "text": [
      "age: 25 height: 5.2 and Mitu\n"
     ]
    }
   ],
   "source": [
    "a1.show()"
   ]
  },
  {
   "cell_type": "markdown",
   "id": "fa8189f6-bf5b-45f7-9b70-96d62ab26bce",
   "metadata": {},
   "source": [
    "# Polymorphism"
   ]
  },
  {
   "cell_type": "code",
   "execution_count": 46,
   "id": "50165fc7-acab-474f-83bb-8c146fcda7e6",
   "metadata": {},
   "outputs": [],
   "source": [
    "# allow objects of different classes to be treated as\n",
    "# object of coman species\n",
    "# done with method overriding"
   ]
  },
  {
   "cell_type": "code",
   "execution_count": 48,
   "id": "934f5d7f-f62d-42a9-813d-be3dd95aaf27",
   "metadata": {},
   "outputs": [],
   "source": [
    "# base class\n",
    "\n",
    "class Animal:\n",
    "    def sound(self):\n",
    "        return 'sound of an animal'"
   ]
  },
  {
   "cell_type": "code",
   "execution_count": 50,
   "id": "72348c89-7016-4b31-9a41-d0e3ebbe729f",
   "metadata": {},
   "outputs": [],
   "source": [
    "# child class/ derived classes\n",
    "\n",
    "class Sparrow(Animal):\n",
    "    def sound(self):\n",
    "        return 'chiw chiw'\n",
    "\n",
    "class Dog(Animal):\n",
    "    def sound(self):\n",
    "        return 'woof woof'"
   ]
  },
  {
   "cell_type": "code",
   "execution_count": 52,
   "id": "a2b84c83-40e6-46df-9b46-14145bbeb602",
   "metadata": {},
   "outputs": [],
   "source": [
    "#function to demonstrate polymorphism\n",
    "\n",
    "def an_speech(animal):   #  passing object as paramrter\n",
    "    print(animal.sound())     "
   ]
  },
  {
   "cell_type": "code",
   "execution_count": 54,
   "id": "83769831-4b7a-4794-a529-33cffdefd2c2",
   "metadata": {},
   "outputs": [],
   "source": [
    "s1 = Sparrow()\n",
    "d1 = Dog()"
   ]
  },
  {
   "cell_type": "code",
   "execution_count": 56,
   "id": "4144bde2-5afe-4820-9528-1643fbfc8c98",
   "metadata": {},
   "outputs": [
    {
     "name": "stdout",
     "output_type": "stream",
     "text": [
      "chiw chiw\n"
     ]
    }
   ],
   "source": [
    "an_speech(s1)"
   ]
  },
  {
   "cell_type": "markdown",
   "id": "dfe87af4-b733-4096-805e-d868e19bb29d",
   "metadata": {},
   "source": [
    "# str"
   ]
  },
  {
   "cell_type": "code",
   "execution_count": 59,
   "id": "260e35c8-9ecb-49a8-add0-563043241295",
   "metadata": {},
   "outputs": [],
   "source": [
    "# __str__ =>string representation of an object"
   ]
  },
  {
   "cell_type": "code",
   "execution_count": 61,
   "id": "5740b665-97ae-463e-bdce-18f2d3c30fc1",
   "metadata": {},
   "outputs": [],
   "source": [
    "class person:\n",
    "    insti = 'Mitu' # class variable # for every object\n",
    "\n",
    "    def __init__ (self,age,ht):\n",
    "        self.age = age\n",
    "        self.ht = ht\n",
    "\n",
    "    def __str__(self):\n",
    "        return f\"age:{self.age} ht:{self.ht}\""
   ]
  },
  {
   "cell_type": "code",
   "execution_count": 63,
   "id": "1154d8d4-2ea4-4cfd-b034-2967d1716196",
   "metadata": {},
   "outputs": [
    {
     "data": {
      "text/plain": [
       "['__class__',\n",
       " '__delattr__',\n",
       " '__dict__',\n",
       " '__dir__',\n",
       " '__doc__',\n",
       " '__eq__',\n",
       " '__format__',\n",
       " '__ge__',\n",
       " '__getattribute__',\n",
       " '__getstate__',\n",
       " '__gt__',\n",
       " '__hash__',\n",
       " '__init__',\n",
       " '__init_subclass__',\n",
       " '__le__',\n",
       " '__lt__',\n",
       " '__module__',\n",
       " '__ne__',\n",
       " '__new__',\n",
       " '__reduce__',\n",
       " '__reduce_ex__',\n",
       " '__repr__',\n",
       " '__setattr__',\n",
       " '__sizeof__',\n",
       " '__str__',\n",
       " '__subclasshook__',\n",
       " '__weakref__',\n",
       " 'insti']"
      ]
     },
     "execution_count": 63,
     "metadata": {},
     "output_type": "execute_result"
    }
   ],
   "source": [
    "dir(person)"
   ]
  },
  {
   "cell_type": "code",
   "execution_count": 65,
   "id": "5beae8c5-e1ae-4f75-8122-fed04c92c689",
   "metadata": {},
   "outputs": [],
   "source": [
    "o1 = person(23,5.5)"
   ]
  },
  {
   "cell_type": "code",
   "execution_count": 67,
   "id": "0fe23c8d-f0aa-4381-8b37-3ec826574d9b",
   "metadata": {},
   "outputs": [
    {
     "name": "stdout",
     "output_type": "stream",
     "text": [
      "age:23 ht:5.5\n"
     ]
    }
   ],
   "source": [
    "print(o1)"
   ]
  }
 ],
 "metadata": {
  "kernelspec": {
   "display_name": "Python 3 (ipykernel)",
   "language": "python",
   "name": "python3"
  },
  "language_info": {
   "codemirror_mode": {
    "name": "ipython",
    "version": 3
   },
   "file_extension": ".py",
   "mimetype": "text/x-python",
   "name": "python",
   "nbconvert_exporter": "python",
   "pygments_lexer": "ipython3",
   "version": "3.12.4"
  }
 },
 "nbformat": 4,
 "nbformat_minor": 5
}
