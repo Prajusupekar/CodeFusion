{
 "cells": [
  {
   "cell_type": "markdown",
   "id": "4a6879e7-fd87-44cb-b0ee-22b170c3c462",
   "metadata": {},
   "source": [
    "## List"
   ]
  },
  {
   "cell_type": "code",
   "execution_count": 1,
   "id": "f2415559-8098-48a4-bb69-9b4aea0fa5d1",
   "metadata": {},
   "outputs": [],
   "source": [
    "l = [12,15,48,65,8,8,5,31]"
   ]
  },
  {
   "cell_type": "code",
   "execution_count": 3,
   "id": "01592834-2c12-4d34-b11e-c5b621c7d7d1",
   "metadata": {},
   "outputs": [
    {
     "name": "stdout",
     "output_type": "stream",
     "text": [
      "[12, 15, 48, 65, 8, 8, 5, 31]\n"
     ]
    }
   ],
   "source": [
    "print(l)"
   ]
  },
  {
   "cell_type": "code",
   "execution_count": 5,
   "id": "d4a0c366-3d38-4c91-b7b6-84c6dc3cd27b",
   "metadata": {},
   "outputs": [
    {
     "data": {
      "text/plain": [
       "list"
      ]
     },
     "execution_count": 5,
     "metadata": {},
     "output_type": "execute_result"
    }
   ],
   "source": [
    "type(l)"
   ]
  },
  {
   "cell_type": "code",
   "execution_count": 7,
   "id": "59dab748-543d-4dd4-896d-942ae78fdeb6",
   "metadata": {},
   "outputs": [],
   "source": [
    "l1 = [12, 34, 54 ,'prajakta', True]\n",
    "\n",
    "# hetrogeinous"
   ]
  },
  {
   "cell_type": "code",
   "execution_count": 9,
   "id": "bc7722ab-c88e-4d5f-8bc9-1ea274d190d5",
   "metadata": {},
   "outputs": [
    {
     "name": "stdout",
     "output_type": "stream",
     "text": [
      "[12, 34, 54, 'prajakta', True]\n"
     ]
    }
   ],
   "source": [
    "print(l1)"
   ]
  },
  {
   "cell_type": "code",
   "execution_count": 11,
   "id": "04b45308-a298-4801-b6e5-2d1603334565",
   "metadata": {},
   "outputs": [
    {
     "data": {
      "text/plain": [
       "list"
      ]
     },
     "execution_count": 11,
     "metadata": {},
     "output_type": "execute_result"
    }
   ],
   "source": [
    "type(l1)"
   ]
  },
  {
   "cell_type": "code",
   "execution_count": 13,
   "id": "37af28ab-85a2-4d79-8e41-76eb20216c05",
   "metadata": {},
   "outputs": [
    {
     "data": {
      "text/plain": [
       "[12, 15, 48, 65, 8, 8, 5, 31]"
      ]
     },
     "execution_count": 13,
     "metadata": {},
     "output_type": "execute_result"
    }
   ],
   "source": [
    "l"
   ]
  },
  {
   "cell_type": "code",
   "execution_count": 15,
   "id": "74a67a34-5ee7-4376-b151-9902ff33e5bb",
   "metadata": {},
   "outputs": [],
   "source": [
    "## access the data"
   ]
  },
  {
   "cell_type": "code",
   "execution_count": 17,
   "id": "954814c1-31ce-43de-b05f-1430cdc15f97",
   "metadata": {},
   "outputs": [
    {
     "data": {
      "text/plain": [
       "15"
      ]
     },
     "execution_count": 17,
     "metadata": {},
     "output_type": "execute_result"
    }
   ],
   "source": [
    "l[1]"
   ]
  },
  {
   "cell_type": "code",
   "execution_count": 19,
   "id": "f23c0d81-0bca-4813-861f-f53020f5ff64",
   "metadata": {},
   "outputs": [
    {
     "data": {
      "text/plain": [
       "12"
      ]
     },
     "execution_count": 19,
     "metadata": {},
     "output_type": "execute_result"
    }
   ],
   "source": [
    "l[0]"
   ]
  },
  {
   "cell_type": "code",
   "execution_count": 21,
   "id": "0018128b-1467-4c4b-b642-795a2f9d19fc",
   "metadata": {},
   "outputs": [
    {
     "data": {
      "text/plain": [
       "31"
      ]
     },
     "execution_count": 21,
     "metadata": {},
     "output_type": "execute_result"
    }
   ],
   "source": [
    "l[-1]"
   ]
  },
  {
   "cell_type": "code",
   "execution_count": 23,
   "id": "f56e206f-7f25-405a-9468-d48c25fb1fdf",
   "metadata": {},
   "outputs": [],
   "source": [
    "# changing the data"
   ]
  },
  {
   "cell_type": "code",
   "execution_count": 25,
   "id": "2113c9aa-c01b-4dc8-8c40-ae2c277e1892",
   "metadata": {},
   "outputs": [],
   "source": [
    "l[2] = 100"
   ]
  },
  {
   "cell_type": "code",
   "execution_count": 27,
   "id": "3b573a35-c118-46cc-b607-5b6f880145f3",
   "metadata": {},
   "outputs": [
    {
     "data": {
      "text/plain": [
       "[12, 15, 100, 65, 8, 8, 5, 31]"
      ]
     },
     "execution_count": 27,
     "metadata": {},
     "output_type": "execute_result"
    }
   ],
   "source": [
    "l   # mutable  # duplicates are also allow"
   ]
  },
  {
   "cell_type": "code",
   "execution_count": 29,
   "id": "ac6a5a47-465f-49b5-baa3-6031440535ad",
   "metadata": {},
   "outputs": [],
   "source": [
    "l[4] = 54"
   ]
  },
  {
   "cell_type": "code",
   "execution_count": 31,
   "id": "f68b09be-ffa7-4d5a-a709-1f34200b5765",
   "metadata": {},
   "outputs": [
    {
     "data": {
      "text/plain": [
       "[12, 15, 100, 65, 54, 8, 5, 31]"
      ]
     },
     "execution_count": 31,
     "metadata": {},
     "output_type": "execute_result"
    }
   ],
   "source": [
    "l"
   ]
  },
  {
   "cell_type": "code",
   "execution_count": 33,
   "id": "36cc6fdf-cd1f-4262-9734-0ce0d252e29b",
   "metadata": {},
   "outputs": [],
   "source": [
    "l[3] = 25"
   ]
  },
  {
   "cell_type": "code",
   "execution_count": 35,
   "id": "c1657ac4-0f91-4d61-92ba-8f8dac36018d",
   "metadata": {},
   "outputs": [
    {
     "data": {
      "text/plain": [
       "[12, 15, 100, 25, 54, 8, 5, 31]"
      ]
     },
     "execution_count": 35,
     "metadata": {},
     "output_type": "execute_result"
    }
   ],
   "source": [
    "l"
   ]
  },
  {
   "cell_type": "code",
   "execution_count": 37,
   "id": "a735b9ed-e769-4772-98af-25ca7c577a23",
   "metadata": {},
   "outputs": [
    {
     "data": {
      "text/plain": [
       "[15, 100, 25, 54]"
      ]
     },
     "execution_count": 37,
     "metadata": {},
     "output_type": "execute_result"
    }
   ],
   "source": [
    "l[1:5]"
   ]
  },
  {
   "cell_type": "code",
   "execution_count": 39,
   "id": "3771ab5d-4cae-437e-9fd6-74d6d78bc1d6",
   "metadata": {},
   "outputs": [],
   "source": [
    "l2 = l[1:5]"
   ]
  },
  {
   "cell_type": "code",
   "execution_count": 41,
   "id": "860d7f25-0092-44de-9f08-2828aee71d8c",
   "metadata": {},
   "outputs": [
    {
     "data": {
      "text/plain": [
       "[12, 15, 100]"
      ]
     },
     "execution_count": 41,
     "metadata": {},
     "output_type": "execute_result"
    }
   ],
   "source": [
    "l[:3]"
   ]
  },
  {
   "cell_type": "code",
   "execution_count": 43,
   "id": "4a3dfafc-52af-4c5c-8bd1-cc73a62d36b2",
   "metadata": {},
   "outputs": [],
   "source": [
    "l3 = l[:3]"
   ]
  },
  {
   "cell_type": "code",
   "execution_count": 45,
   "id": "802c7292-c7a0-4fe7-adb4-69168340e4f8",
   "metadata": {},
   "outputs": [],
   "source": [
    "l4= l[1:-1]"
   ]
  },
  {
   "cell_type": "code",
   "execution_count": 47,
   "id": "ba5805a7-69ef-4cc5-98a7-59fb9dd32336",
   "metadata": {},
   "outputs": [
    {
     "data": {
      "text/plain": [
       "[15, 100, 25, 54, 8, 5]"
      ]
     },
     "execution_count": 47,
     "metadata": {},
     "output_type": "execute_result"
    }
   ],
   "source": [
    "l4"
   ]
  },
  {
   "cell_type": "code",
   "execution_count": 49,
   "id": "62b39679-2f8b-43e6-a304-57c7a8d777e5",
   "metadata": {},
   "outputs": [
    {
     "data": {
      "text/plain": [
       "[12, 15, 100, 25, 54, 8, 5, 31]"
      ]
     },
     "execution_count": 49,
     "metadata": {},
     "output_type": "execute_result"
    }
   ],
   "source": [
    "l"
   ]
  },
  {
   "cell_type": "code",
   "execution_count": 51,
   "id": "11939674-0ae2-4fbf-8a94-b3ff91a497e4",
   "metadata": {},
   "outputs": [
    {
     "data": {
      "text/plain": [
       "[15, 25, 8]"
      ]
     },
     "execution_count": 51,
     "metadata": {},
     "output_type": "execute_result"
    }
   ],
   "source": [
    "l[1:6:2]"
   ]
  },
  {
   "cell_type": "code",
   "execution_count": 53,
   "id": "05aae9c2-d48c-4b5e-bb35-18f6f4dec1be",
   "metadata": {},
   "outputs": [],
   "source": [
    "l[1:6:2] = [20,30,40]"
   ]
  },
  {
   "cell_type": "code",
   "execution_count": 55,
   "id": "1de213ec-1f31-4a7a-95e7-95ddac463fc5",
   "metadata": {},
   "outputs": [
    {
     "data": {
      "text/plain": [
       "[12, 20, 100, 30, 54, 40, 5, 31]"
      ]
     },
     "execution_count": 55,
     "metadata": {},
     "output_type": "execute_result"
    }
   ],
   "source": [
    "l"
   ]
  },
  {
   "cell_type": "code",
   "execution_count": 57,
   "id": "b02b051b-bc59-4c81-96fa-3c2bbe93b36d",
   "metadata": {},
   "outputs": [],
   "source": [
    "l[2:5] = [15,25,35]"
   ]
  },
  {
   "cell_type": "code",
   "execution_count": 59,
   "id": "61e465e1-490d-4489-a978-ac02afbcb789",
   "metadata": {},
   "outputs": [
    {
     "data": {
      "text/plain": [
       "[12, 20, 15, 25, 35, 40, 5, 31]"
      ]
     },
     "execution_count": 59,
     "metadata": {},
     "output_type": "execute_result"
    }
   ],
   "source": [
    "l"
   ]
  },
  {
   "cell_type": "code",
   "execution_count": 61,
   "id": "0c3dba09-7889-4db1-850d-d4d0674246ce",
   "metadata": {},
   "outputs": [],
   "source": [
    "# delete the data"
   ]
  },
  {
   "cell_type": "code",
   "execution_count": 63,
   "id": "e47bea6b-e6ad-409a-8fe9-9e5fb1ecd9ee",
   "metadata": {},
   "outputs": [],
   "source": [
    "del l1"
   ]
  },
  {
   "cell_type": "code",
   "execution_count": 65,
   "id": "c2d7b6dc-5048-4f8e-a95e-08fb0122abef",
   "metadata": {},
   "outputs": [
    {
     "ename": "NameError",
     "evalue": "name 'l1' is not defined",
     "output_type": "error",
     "traceback": [
      "\u001b[1;31m---------------------------------------------------------------------------\u001b[0m",
      "\u001b[1;31mNameError\u001b[0m                                 Traceback (most recent call last)",
      "Cell \u001b[1;32mIn[65], line 1\u001b[0m\n\u001b[1;32m----> 1\u001b[0m l1\n",
      "\u001b[1;31mNameError\u001b[0m: name 'l1' is not defined"
     ]
    }
   ],
   "source": [
    "l1"
   ]
  },
  {
   "cell_type": "code",
   "execution_count": 67,
   "id": "62213ce1-e27b-4c6a-a1d6-a06c791680c4",
   "metadata": {},
   "outputs": [],
   "source": [
    "l1 =[12,34,45,65,76,42,11,78]"
   ]
  },
  {
   "cell_type": "code",
   "execution_count": 69,
   "id": "9ab36c8f-4c60-4f36-ab35-7088adfbcc47",
   "metadata": {},
   "outputs": [
    {
     "data": {
      "text/plain": [
       "False"
      ]
     },
     "execution_count": 69,
     "metadata": {},
     "output_type": "execute_result"
    }
   ],
   "source": [
    "100 in l1"
   ]
  },
  {
   "cell_type": "code",
   "execution_count": 71,
   "id": "b5529f87-f8aa-467a-a8c1-cf2d90b432ad",
   "metadata": {},
   "outputs": [
    {
     "data": {
      "text/plain": [
       "True"
      ]
     },
     "execution_count": 71,
     "metadata": {},
     "output_type": "execute_result"
    }
   ],
   "source": [
    "12 in l1"
   ]
  },
  {
   "cell_type": "code",
   "execution_count": 73,
   "id": "9a435385-39ed-4613-bfac-cb35c1c81aa0",
   "metadata": {},
   "outputs": [
    {
     "data": {
      "text/plain": [
       "[12, 34, 45, 65, 76, 42, 11, 78, 12, 34, 45, 65, 76, 42, 11, 78]"
      ]
     },
     "execution_count": 73,
     "metadata": {},
     "output_type": "execute_result"
    }
   ],
   "source": [
    "l1*2"
   ]
  },
  {
   "cell_type": "code",
   "execution_count": 75,
   "id": "0bc90249-3863-4702-9cb3-14089e122b9c",
   "metadata": {},
   "outputs": [
    {
     "data": {
      "text/plain": [
       "[12, 34, 45, 65, 76, 42, 11, 78, 200, 300]"
      ]
     },
     "execution_count": 75,
     "metadata": {},
     "output_type": "execute_result"
    }
   ],
   "source": [
    "l1 +[200,300]"
   ]
  },
  {
   "cell_type": "code",
   "execution_count": 77,
   "id": "8cb4d3d0-33ff-4b91-a96a-c044f771c3c9",
   "metadata": {},
   "outputs": [
    {
     "data": {
      "text/plain": [
       "[12, 34, 45, 65, 76, 42, 11, 78, 10]"
      ]
     },
     "execution_count": 77,
     "metadata": {},
     "output_type": "execute_result"
    }
   ],
   "source": [
    "l1+[10]"
   ]
  },
  {
   "cell_type": "code",
   "execution_count": 79,
   "id": "3a936d31-f52e-4255-9eba-ce474484e792",
   "metadata": {},
   "outputs": [],
   "source": [
    "# itrating over a list"
   ]
  },
  {
   "cell_type": "code",
   "execution_count": 81,
   "id": "89885e20-9db3-43bf-b7fa-9358aa273eaa",
   "metadata": {},
   "outputs": [
    {
     "name": "stdout",
     "output_type": "stream",
     "text": [
      "12 34 45 65 76 42 11 78 "
     ]
    }
   ],
   "source": [
    "for i in l1:\n",
    "    print(i,end = ' ' )"
   ]
  },
  {
   "cell_type": "code",
   "execution_count": 83,
   "id": "768db039-e0f2-4b01-8702-61c07ec1b17d",
   "metadata": {},
   "outputs": [
    {
     "name": "stdout",
     "output_type": "stream",
     "text": [
      "45 65 11 "
     ]
    }
   ],
   "source": [
    "#write a program to print odd numbers from list\n",
    "\n",
    "for i in l1:\n",
    "    if i % 2 ==1:\n",
    "        print(i,end = ' ')"
   ]
  },
  {
   "cell_type": "markdown",
   "id": "47504825-b46f-403c-bf25-b3799ad181de",
   "metadata": {},
   "source": [
    "## List comprehension"
   ]
  },
  {
   "cell_type": "code",
   "execution_count": 86,
   "id": "db21f02b-9073-4531-a7ba-6091954c92f3",
   "metadata": {},
   "outputs": [
    {
     "data": {
      "text/plain": [
       "[12, 34, 45, 65, 76, 42, 11, 78]"
      ]
     },
     "execution_count": 86,
     "metadata": {},
     "output_type": "execute_result"
    }
   ],
   "source": [
    "l1"
   ]
  },
  {
   "cell_type": "markdown",
   "id": "b52ae635-bcf4-462f-ac68-44db46b9f0e7",
   "metadata": {},
   "source": [
    "## Map"
   ]
  },
  {
   "cell_type": "code",
   "execution_count": 89,
   "id": "85491454-5e45-4f63-906f-c3b79dd4b30e",
   "metadata": {},
   "outputs": [
    {
     "data": {
      "text/plain": [
       "[6.0, 17.0, 22.5, 32.5, 38.0, 21.0, 5.5, 39.0]"
      ]
     },
     "execution_count": 89,
     "metadata": {},
     "output_type": "execute_result"
    }
   ],
   "source": [
    "a = [n/2 for n in l1]\n",
    "a"
   ]
  },
  {
   "cell_type": "code",
   "execution_count": 91,
   "id": "d21fd988-c0fe-4f39-a8df-2e3ef8c4c7d7",
   "metadata": {},
   "outputs": [
    {
     "data": {
      "text/plain": [
       "list"
      ]
     },
     "execution_count": 91,
     "metadata": {},
     "output_type": "execute_result"
    }
   ],
   "source": [
    "type(a)"
   ]
  },
  {
   "cell_type": "code",
   "execution_count": 93,
   "id": "7003cf4e-7f64-4f2d-897c-6492f12e929d",
   "metadata": {},
   "outputs": [
    {
     "data": {
      "text/plain": [
       "[144, 1156, 2025, 4225, 5776, 1764, 121, 6084]"
      ]
     },
     "execution_count": 93,
     "metadata": {},
     "output_type": "execute_result"
    }
   ],
   "source": [
    "[n*n for n in l1]\n"
   ]
  },
  {
   "cell_type": "markdown",
   "id": "442c85bd-0d3a-432c-9e58-54b9543e83e2",
   "metadata": {},
   "source": [
    "#### filter"
   ]
  },
  {
   "cell_type": "code",
   "execution_count": 96,
   "id": "7e5426ea-5d57-419a-9cbd-42d9729f60a3",
   "metadata": {},
   "outputs": [
    {
     "data": {
      "text/plain": [
       "[45, 65, 76, 42, 78]"
      ]
     },
     "execution_count": 96,
     "metadata": {},
     "output_type": "execute_result"
    }
   ],
   "source": [
    "b = [n for n in l1 if n>40]\n",
    "b"
   ]
  },
  {
   "cell_type": "code",
   "execution_count": 98,
   "id": "60d4e820-4d49-4823-a02e-f18c09a1a836",
   "metadata": {},
   "outputs": [
    {
     "data": {
      "text/plain": [
       "[12, 34, 76, 42, 78]"
      ]
     },
     "execution_count": 98,
     "metadata": {},
     "output_type": "execute_result"
    }
   ],
   "source": [
    "# only even numbers\n",
    "[n for n in l1 if n % 2 == 0]\n"
   ]
  },
  {
   "cell_type": "code",
   "execution_count": 100,
   "id": "3ded413f-be07-404c-b5aa-3ceccd9e34b0",
   "metadata": {},
   "outputs": [],
   "source": [
    "# print names  which starts with 's'\n",
    "names = ['prajal', 'soham', 'Shalini', 'pushakraj', 'aditya']"
   ]
  },
  {
   "cell_type": "code",
   "execution_count": 102,
   "id": "b565f1a9-dd36-4f2a-9c21-a4f2d809070e",
   "metadata": {},
   "outputs": [
    {
     "data": {
      "text/plain": [
       "['soham', 'Shalini']"
      ]
     },
     "execution_count": 102,
     "metadata": {},
     "output_type": "execute_result"
    }
   ],
   "source": [
    "[n for n in names if n.lower().startswith('s')]"
   ]
  },
  {
   "cell_type": "markdown",
   "id": "71abf123-daee-420b-8238-0c8850e8920c",
   "metadata": {},
   "source": [
    "#### empty list"
   ]
  },
  {
   "cell_type": "code",
   "execution_count": 105,
   "id": "02b04a98-3c9d-467f-8c51-7eb4e11a8230",
   "metadata": {},
   "outputs": [],
   "source": [
    "e = [ ]"
   ]
  },
  {
   "cell_type": "code",
   "execution_count": 107,
   "id": "07376442-fd01-455d-9e6d-ef43aa4246c4",
   "metadata": {},
   "outputs": [
    {
     "data": {
      "text/plain": [
       "list"
      ]
     },
     "execution_count": 107,
     "metadata": {},
     "output_type": "execute_result"
    }
   ],
   "source": [
    "type(e)"
   ]
  },
  {
   "cell_type": "code",
   "execution_count": 109,
   "id": "f7bbd12d-928c-4c6e-a869-8f51de61def1",
   "metadata": {},
   "outputs": [
    {
     "ename": "IndexError",
     "evalue": "list index out of range",
     "output_type": "error",
     "traceback": [
      "\u001b[1;31m---------------------------------------------------------------------------\u001b[0m",
      "\u001b[1;31mIndexError\u001b[0m                                Traceback (most recent call last)",
      "Cell \u001b[1;32mIn[109], line 1\u001b[0m\n\u001b[1;32m----> 1\u001b[0m e[\u001b[38;5;241m0\u001b[39m]\n",
      "\u001b[1;31mIndexError\u001b[0m: list index out of range"
     ]
    }
   ],
   "source": [
    "e[0]"
   ]
  },
  {
   "cell_type": "code",
   "execution_count": 111,
   "id": "f7990f31-b4f7-4b47-b281-a04383178c32",
   "metadata": {},
   "outputs": [
    {
     "data": {
      "text/plain": [
       "[10]"
      ]
     },
     "execution_count": 111,
     "metadata": {},
     "output_type": "execute_result"
    }
   ],
   "source": [
    "e = e+[10]\n",
    "e"
   ]
  },
  {
   "cell_type": "markdown",
   "id": "2dd8f12d-b50c-4921-a9bf-18b5237126f0",
   "metadata": {},
   "source": [
    "### List Decomposition"
   ]
  },
  {
   "cell_type": "code",
   "execution_count": 114,
   "id": "cbf1539b-d787-46eb-adeb-fca95a63e76e",
   "metadata": {},
   "outputs": [],
   "source": [
    "l5 = [12,34,56]"
   ]
  },
  {
   "cell_type": "code",
   "execution_count": 116,
   "id": "77e5182f-70a8-4b84-84de-d8b9bae7c91b",
   "metadata": {},
   "outputs": [],
   "source": [
    "x,y,z = l5"
   ]
  },
  {
   "cell_type": "code",
   "execution_count": 118,
   "id": "0c377fb6-313a-4bf1-94f5-4d0bfd719c27",
   "metadata": {},
   "outputs": [
    {
     "data": {
      "text/plain": [
       "12"
      ]
     },
     "execution_count": 118,
     "metadata": {},
     "output_type": "execute_result"
    }
   ],
   "source": [
    "x"
   ]
  },
  {
   "cell_type": "code",
   "execution_count": 120,
   "id": "842eb741-7407-47fc-a027-4d213905af5d",
   "metadata": {},
   "outputs": [
    {
     "data": {
      "text/plain": [
       "34"
      ]
     },
     "execution_count": 120,
     "metadata": {},
     "output_type": "execute_result"
    }
   ],
   "source": [
    "y"
   ]
  },
  {
   "cell_type": "code",
   "execution_count": 122,
   "id": "471e2701-6f27-4b73-b239-8c22d25d980c",
   "metadata": {},
   "outputs": [
    {
     "data": {
      "text/plain": [
       "56"
      ]
     },
     "execution_count": 122,
     "metadata": {},
     "output_type": "execute_result"
    }
   ],
   "source": [
    "z"
   ]
  },
  {
   "cell_type": "markdown",
   "id": "acb46e09-cefe-42d3-ab5f-a38145ebe1ff",
   "metadata": {},
   "source": [
    "#### Function"
   ]
  },
  {
   "cell_type": "code",
   "execution_count": 125,
   "id": "5e05ffee-e341-457c-b002-08d30b95ad19",
   "metadata": {},
   "outputs": [
    {
     "data": {
      "text/plain": [
       "[12, 34, 45, 65, 76, 42, 11, 78]"
      ]
     },
     "execution_count": 125,
     "metadata": {},
     "output_type": "execute_result"
    }
   ],
   "source": [
    "l1             "
   ]
  },
  {
   "cell_type": "code",
   "execution_count": 127,
   "id": "42525bc2-9b15-4755-816c-8cdfd6b01564",
   "metadata": {},
   "outputs": [
    {
     "data": {
      "text/plain": [
       "8"
      ]
     },
     "execution_count": 127,
     "metadata": {},
     "output_type": "execute_result"
    }
   ],
   "source": [
    "len(l1)"
   ]
  },
  {
   "cell_type": "code",
   "execution_count": 129,
   "id": "b3375afa-8b33-48c3-8c2c-c5d54c1dfd9b",
   "metadata": {},
   "outputs": [
    {
     "data": {
      "text/plain": [
       "11"
      ]
     },
     "execution_count": 129,
     "metadata": {},
     "output_type": "execute_result"
    }
   ],
   "source": [
    "min(l1)"
   ]
  },
  {
   "cell_type": "code",
   "execution_count": 131,
   "id": "6cf0117e-5979-4cf3-a5c6-8c794c37f6bd",
   "metadata": {},
   "outputs": [
    {
     "data": {
      "text/plain": [
       "78"
      ]
     },
     "execution_count": 131,
     "metadata": {},
     "output_type": "execute_result"
    }
   ],
   "source": [
    "max(l1) "
   ]
  },
  {
   "cell_type": "code",
   "execution_count": 133,
   "id": "3cda9452-38e6-4d8c-8026-7e502045fc35",
   "metadata": {},
   "outputs": [
    {
     "data": {
      "text/plain": [
       "[11, 12, 34, 42, 45, 65, 76, 78]"
      ]
     },
     "execution_count": 133,
     "metadata": {},
     "output_type": "execute_result"
    }
   ],
   "source": [
    "sorted(l1)"
   ]
  },
  {
   "cell_type": "code",
   "execution_count": 135,
   "id": "d9c1fda7-bdd8-41fd-a75c-b3a871deda08",
   "metadata": {},
   "outputs": [
    {
     "data": {
      "text/plain": [
       "[78, 76, 65, 45, 42, 34, 12, 11]"
      ]
     },
     "execution_count": 135,
     "metadata": {},
     "output_type": "execute_result"
    }
   ],
   "source": [
    "sorted(l1, reverse = True)"
   ]
  },
  {
   "cell_type": "code",
   "execution_count": 137,
   "id": "39dbe239-4e2f-4884-8b29-25ce864502d2",
   "metadata": {},
   "outputs": [],
   "source": [
    "name = 'prajakta'"
   ]
  },
  {
   "cell_type": "code",
   "execution_count": 139,
   "id": "c7911225-7b92-4d22-9b6c-e68d1553b9ee",
   "metadata": {},
   "outputs": [
    {
     "data": {
      "text/plain": [
       "['p', 'r', 'a', 'j', 'a', 'k', 't', 'a']"
      ]
     },
     "execution_count": 139,
     "metadata": {},
     "output_type": "execute_result"
    }
   ],
   "source": [
    "list(name)"
   ]
  },
  {
   "cell_type": "markdown",
   "id": "e95acd13-a316-4d7b-baa6-62cd54b30e4f",
   "metadata": {},
   "source": [
    "#### methods"
   ]
  },
  {
   "cell_type": "code",
   "execution_count": 142,
   "id": "b5c0ff6a-f2af-41ef-9e60-85f158276d8c",
   "metadata": {},
   "outputs": [
    {
     "data": {
      "text/plain": [
       "[12, 34, 45, 65, 76, 42, 11, 78]"
      ]
     },
     "execution_count": 142,
     "metadata": {},
     "output_type": "execute_result"
    }
   ],
   "source": [
    "l1"
   ]
  },
  {
   "cell_type": "code",
   "execution_count": 144,
   "id": "3acdcb51-dc63-4ed7-a139-3aa359e16b91",
   "metadata": {},
   "outputs": [],
   "source": [
    "l1.append(200)"
   ]
  },
  {
   "cell_type": "code",
   "execution_count": 146,
   "id": "3d7c851a-8f79-4aa6-af56-83407d7eb3f6",
   "metadata": {},
   "outputs": [
    {
     "data": {
      "text/plain": [
       "[12, 34, 45, 65, 76, 42, 11, 78, 200]"
      ]
     },
     "execution_count": 146,
     "metadata": {},
     "output_type": "execute_result"
    }
   ],
   "source": [
    "l1"
   ]
  },
  {
   "cell_type": "code",
   "execution_count": 148,
   "id": "da2a146b-0181-46f4-9079-8518d2960e4d",
   "metadata": {},
   "outputs": [],
   "source": [
    "# append  or extend "
   ]
  },
  {
   "cell_type": "code",
   "execution_count": 150,
   "id": "af864319-a872-4021-b9b1-76673307b74f",
   "metadata": {},
   "outputs": [],
   "source": [
    "a = [1,2,3]\n",
    "b = [1,2,3]"
   ]
  },
  {
   "cell_type": "code",
   "execution_count": 152,
   "id": "a97001d3-f9a8-4327-96ce-b074089ff74c",
   "metadata": {},
   "outputs": [],
   "source": [
    "a.append([4,5])\n",
    "b.extend([4,5])"
   ]
  },
  {
   "cell_type": "code",
   "execution_count": 154,
   "id": "c0fc12ac-cf9a-4092-ad4a-7be7486cfdd7",
   "metadata": {},
   "outputs": [
    {
     "data": {
      "text/plain": [
       "[1, 2, 3, [4, 5]]"
      ]
     },
     "execution_count": 154,
     "metadata": {},
     "output_type": "execute_result"
    }
   ],
   "source": [
    "a"
   ]
  },
  {
   "cell_type": "code",
   "execution_count": 156,
   "id": "a71ff096-f0f6-4adc-b785-8230d27664d9",
   "metadata": {},
   "outputs": [
    {
     "data": {
      "text/plain": [
       "[1, 2, 3, 4, 5]"
      ]
     },
     "execution_count": 156,
     "metadata": {},
     "output_type": "execute_result"
    }
   ],
   "source": [
    "b"
   ]
  },
  {
   "cell_type": "code",
   "execution_count": 158,
   "id": "940bbd06-9ba2-40ec-b35e-166e367d0372",
   "metadata": {},
   "outputs": [
    {
     "data": {
      "text/plain": [
       "[4, 5]"
      ]
     },
     "execution_count": 158,
     "metadata": {},
     "output_type": "execute_result"
    }
   ],
   "source": [
    "a[3]"
   ]
  },
  {
   "cell_type": "markdown",
   "id": "c06e6c6c-7b07-4756-8d6f-155b17d95502",
   "metadata": {},
   "source": [
    "##### insert"
   ]
  },
  {
   "cell_type": "code",
   "execution_count": 161,
   "id": "18ccccd0-b8a7-4691-a29b-57cec8987886",
   "metadata": {},
   "outputs": [
    {
     "data": {
      "text/plain": [
       "[12, 34, 45, 65, 76, 42, 11, 78, 200]"
      ]
     },
     "execution_count": 161,
     "metadata": {},
     "output_type": "execute_result"
    }
   ],
   "source": [
    "l1"
   ]
  },
  {
   "cell_type": "code",
   "execution_count": 163,
   "id": "8f010682-c078-4fcd-b97a-821663f8df51",
   "metadata": {},
   "outputs": [],
   "source": [
    "l1.insert(3,100)"
   ]
  },
  {
   "cell_type": "code",
   "execution_count": 165,
   "id": "2f1d4438-8466-4567-bb7d-9431091bf12a",
   "metadata": {},
   "outputs": [
    {
     "data": {
      "text/plain": [
       "[12, 34, 45, 100, 65, 76, 42, 11, 78, 200]"
      ]
     },
     "execution_count": 165,
     "metadata": {},
     "output_type": "execute_result"
    }
   ],
   "source": [
    "l1"
   ]
  },
  {
   "cell_type": "markdown",
   "id": "a79f2cbf-bc06-4f68-82d2-8a9b0c66cb7c",
   "metadata": {},
   "source": [
    "##### remove"
   ]
  },
  {
   "cell_type": "code",
   "execution_count": 168,
   "id": "788342ec-e8f4-42fa-bf31-e1f81eed6eae",
   "metadata": {},
   "outputs": [],
   "source": [
    "l1.remove(100)"
   ]
  },
  {
   "cell_type": "code",
   "execution_count": 170,
   "id": "d6528f8c-5e6b-4fcd-bc8d-b1c44eebf0fc",
   "metadata": {},
   "outputs": [
    {
     "data": {
      "text/plain": [
       "[12, 34, 45, 65, 76, 42, 11, 78, 200]"
      ]
     },
     "execution_count": 170,
     "metadata": {},
     "output_type": "execute_result"
    }
   ],
   "source": [
    "l1"
   ]
  },
  {
   "cell_type": "code",
   "execution_count": 172,
   "id": "6d0a4c24-1290-48b4-9962-5c1f4964b9e4",
   "metadata": {},
   "outputs": [
    {
     "data": {
      "text/plain": [
       "3"
      ]
     },
     "execution_count": 172,
     "metadata": {},
     "output_type": "execute_result"
    }
   ],
   "source": [
    "l1.index(65)"
   ]
  },
  {
   "cell_type": "code",
   "execution_count": 174,
   "id": "4db242c4-9bd2-45f0-b3df-925d90bfa62e",
   "metadata": {},
   "outputs": [
    {
     "data": {
      "text/plain": [
       "1"
      ]
     },
     "execution_count": 174,
     "metadata": {},
     "output_type": "execute_result"
    }
   ],
   "source": [
    "l1.count(12)"
   ]
  },
  {
   "cell_type": "code",
   "execution_count": 176,
   "id": "636938cc-82ba-4dbd-8880-3745abec30b0",
   "metadata": {},
   "outputs": [],
   "source": [
    "# delete or pop"
   ]
  },
  {
   "cell_type": "code",
   "execution_count": 178,
   "id": "1431e2e3-bb42-48da-9352-44120cb28c3c",
   "metadata": {},
   "outputs": [
    {
     "data": {
      "text/plain": [
       "11"
      ]
     },
     "execution_count": 178,
     "metadata": {},
     "output_type": "execute_result"
    }
   ],
   "source": [
    "l1.pop(-3) "
   ]
  },
  {
   "cell_type": "code",
   "execution_count": 180,
   "id": "8e520b2e-04ab-412b-a6c2-b4c89ea20b77",
   "metadata": {},
   "outputs": [
    {
     "data": {
      "text/plain": [
       "[12, 34, 45, 65, 76, 42, 78, 200]"
      ]
     },
     "execution_count": 180,
     "metadata": {},
     "output_type": "execute_result"
    }
   ],
   "source": [
    "l1"
   ]
  },
  {
   "cell_type": "code",
   "execution_count": 182,
   "id": "663ac757-cb36-4406-9b97-ace18725faf0",
   "metadata": {},
   "outputs": [],
   "source": [
    "l1.reverse()"
   ]
  },
  {
   "cell_type": "code",
   "execution_count": 184,
   "id": "3e565985-5643-4dc3-ad8c-2ac88f0b71e1",
   "metadata": {},
   "outputs": [
    {
     "data": {
      "text/plain": [
       "[200, 78, 42, 76, 65, 45, 34, 12]"
      ]
     },
     "execution_count": 184,
     "metadata": {},
     "output_type": "execute_result"
    }
   ],
   "source": [
    "l1"
   ]
  },
  {
   "cell_type": "code",
   "execution_count": 186,
   "id": "a81f2bf1-73aa-4d67-9683-7bdd8c274703",
   "metadata": {},
   "outputs": [
    {
     "name": "stdout",
     "output_type": "stream",
     "text": [
      "0 ---> 12\n",
      "1 ---> 34\n",
      "0 ---> 12\n",
      "3 ---> 78\n",
      "4 ---> 56\n"
     ]
    }
   ],
   "source": [
    "# inrate over list ,print indes and value\n",
    "\n",
    "l = [12,34,12,78,56]\n",
    "\n",
    "for n in l:\n",
    "    print(l.index(n),'--->',n)\n",
    " \n"
   ]
  },
  {
   "cell_type": "markdown",
   "id": "0c71c02d-05cb-4cfb-a4b6-5e0007d03324",
   "metadata": {},
   "source": [
    "##### enumerate"
   ]
  },
  {
   "cell_type": "code",
   "execution_count": 189,
   "id": "ae873958-cccc-415d-aac3-83a56d8cf80f",
   "metadata": {},
   "outputs": [
    {
     "name": "stdout",
     "output_type": "stream",
     "text": [
      "0 ---> 12\n",
      "1 ---> 34\n",
      "2 ---> 12\n",
      "3 ---> 78\n",
      "4 ---> 56\n"
     ]
    },
    {
     "data": {
      "text/plain": [
       "((0, 12), (1, 34), (2, 12), (3, 78), (4, 56))"
      ]
     },
     "execution_count": 189,
     "metadata": {},
     "output_type": "execute_result"
    }
   ],
   "source": [
    "for index,n in enumerate(l):\n",
    "     print(index,'--->',n)\n",
    "tuple(enumerate(l))    "
   ]
  },
  {
   "cell_type": "markdown",
   "id": "ef239a27-687c-4037-9156-df3ac138c02d",
   "metadata": {},
   "source": [
    "## Properties of list\n",
    "#### mutable\n",
    "#### hetrogenious\n",
    "#### slicing\n",
    "#### ordered\n",
    "#### duplicates allowed\n"
   ]
  },
  {
   "cell_type": "code",
   "execution_count": 192,
   "id": "251213da-cb01-441a-8387-bf1f34175d42",
   "metadata": {},
   "outputs": [
    {
     "data": {
      "text/plain": [
       "[200, 78, 42, 76, 65, 45, 34, 12]"
      ]
     },
     "execution_count": 192,
     "metadata": {},
     "output_type": "execute_result"
    }
   ],
   "source": [
    "l1"
   ]
  },
  {
   "cell_type": "code",
   "execution_count": 194,
   "id": "0b0b4341-9d6d-44c8-8d6d-4ac227c7b999",
   "metadata": {},
   "outputs": [
    {
     "data": {
      "text/plain": [
       "[]"
      ]
     },
     "execution_count": 194,
     "metadata": {},
     "output_type": "execute_result"
    }
   ],
   "source": [
    "l1.clear()\n",
    "l1"
   ]
  },
  {
   "cell_type": "markdown",
   "id": "19e5fbe2-3b34-42f2-a7de-81fb66b00c64",
   "metadata": {},
   "source": [
    "## Tuple\n",
    "\n",
    "#### hetrogenous\n",
    "#### immutable\n",
    "#### duplicates are allowed \n",
    "#### slicing not possible"
   ]
  },
  {
   "cell_type": "code",
   "execution_count": 197,
   "id": "4127d5d8-c8b0-4e06-b488-f6556454937c",
   "metadata": {},
   "outputs": [],
   "source": [
    "t = (12,45,67,45)"
   ]
  },
  {
   "cell_type": "code",
   "execution_count": 199,
   "id": "179b6e9f-890d-4571-a712-28633365be6b",
   "metadata": {},
   "outputs": [
    {
     "data": {
      "text/plain": [
       "2"
      ]
     },
     "execution_count": 199,
     "metadata": {},
     "output_type": "execute_result"
    }
   ],
   "source": [
    "t.index(67)"
   ]
  },
  {
   "cell_type": "code",
   "execution_count": 201,
   "id": "045f5b48-6718-462a-b8aa-7ed496882a34",
   "metadata": {},
   "outputs": [
    {
     "data": {
      "text/plain": [
       "2"
      ]
     },
     "execution_count": 201,
     "metadata": {},
     "output_type": "execute_result"
    }
   ],
   "source": [
    "t.count(45)"
   ]
  },
  {
   "cell_type": "code",
   "execution_count": 203,
   "id": "f7d07a63-4228-4c3c-a729-17e844488042",
   "metadata": {},
   "outputs": [
    {
     "ename": "AttributeError",
     "evalue": "'tuple' object has no attribute 'clear'",
     "output_type": "error",
     "traceback": [
      "\u001b[1;31m---------------------------------------------------------------------------\u001b[0m",
      "\u001b[1;31mAttributeError\u001b[0m                            Traceback (most recent call last)",
      "Cell \u001b[1;32mIn[203], line 1\u001b[0m\n\u001b[1;32m----> 1\u001b[0m t\u001b[38;5;241m.\u001b[39mclear()\n",
      "\u001b[1;31mAttributeError\u001b[0m: 'tuple' object has no attribute 'clear'"
     ]
    }
   ],
   "source": [
    "t.clear()"
   ]
  },
  {
   "cell_type": "code",
   "execution_count": 205,
   "id": "79412e55-e575-4a13-b938-77854c4c4ace",
   "metadata": {},
   "outputs": [
    {
     "data": {
      "text/plain": [
       "(12, 34, 44, 21, 21, 'Prajakta')"
      ]
     },
     "execution_count": 205,
     "metadata": {},
     "output_type": "execute_result"
    }
   ],
   "source": [
    "t = (12, 34, 44, 21, 21, 'Prajakta')\n",
    "t"
   ]
  },
  {
   "cell_type": "code",
   "execution_count": 207,
   "id": "ee5b4c70-0ce4-46f2-aba1-cab57b43cd6b",
   "metadata": {},
   "outputs": [],
   "source": [
    "a = list(t)"
   ]
  },
  {
   "cell_type": "code",
   "execution_count": 209,
   "id": "15e0231b-0a57-4961-a066-b83e8cf39dd2",
   "metadata": {},
   "outputs": [
    {
     "data": {
      "text/plain": [
       "[12, 100, 44, 21, 21, 'Prajakta']"
      ]
     },
     "execution_count": 209,
     "metadata": {},
     "output_type": "execute_result"
    }
   ],
   "source": [
    "a[1]=100\n",
    "a"
   ]
  },
  {
   "cell_type": "code",
   "execution_count": 211,
   "id": "252320a8-3263-45fc-b7a2-f358f5abb64a",
   "metadata": {},
   "outputs": [
    {
     "ename": "TypeError",
     "evalue": "'tuple' object doesn't support item deletion",
     "output_type": "error",
     "traceback": [
      "\u001b[1;31m---------------------------------------------------------------------------\u001b[0m",
      "\u001b[1;31mTypeError\u001b[0m                                 Traceback (most recent call last)",
      "Cell \u001b[1;32mIn[211], line 1\u001b[0m\n\u001b[1;32m----> 1\u001b[0m \u001b[38;5;28;01mdel\u001b[39;00m t[\u001b[38;5;241m0\u001b[39m]\n",
      "\u001b[1;31mTypeError\u001b[0m: 'tuple' object doesn't support item deletion"
     ]
    }
   ],
   "source": [
    "del t[0]"
   ]
  },
  {
   "cell_type": "markdown",
   "id": "a0a8a25d-8040-407d-a12c-983a81ddf026",
   "metadata": {},
   "source": [
    "# Set\n",
    "\n",
    "#### mutable\n",
    "#### duplicates not allowed"
   ]
  },
  {
   "cell_type": "code",
   "execution_count": 215,
   "id": "1577e698-b81e-4086-b66c-596b6c37d903",
   "metadata": {},
   "outputs": [
    {
     "data": {
      "text/plain": [
       "{1, 2, 3, 4, 5, 7}"
      ]
     },
     "execution_count": 215,
     "metadata": {},
     "output_type": "execute_result"
    }
   ],
   "source": [
    "s = {1,2,3,4,5,5,7}\n",
    "s"
   ]
  },
  {
   "cell_type": "code",
   "execution_count": 217,
   "id": "d1010bcd-0ed6-43a3-aa32-69571f10560e",
   "metadata": {},
   "outputs": [
    {
     "data": {
      "text/plain": [
       "set"
      ]
     },
     "execution_count": 217,
     "metadata": {},
     "output_type": "execute_result"
    }
   ],
   "source": [
    "type(s)"
   ]
  },
  {
   "cell_type": "code",
   "execution_count": 219,
   "id": "e093c0ea-3b44-40c6-bfcc-f70d71ba6363",
   "metadata": {},
   "outputs": [
    {
     "data": {
      "text/plain": [
       "{1, 21, 4, 55, 'prajakta'}"
      ]
     },
     "execution_count": 219,
     "metadata": {},
     "output_type": "execute_result"
    }
   ],
   "source": [
    "s = { 1,4,55,21,'prajakta'}\n",
    "s"
   ]
  },
  {
   "cell_type": "code",
   "execution_count": 224,
   "id": "209efa15-7106-4adf-b5ff-c07eff7d03f7",
   "metadata": {},
   "outputs": [],
   "source": [
    "s = {12,23,34,12,12,56}"
   ]
  },
  {
   "cell_type": "code",
   "execution_count": 226,
   "id": "ae0b896d-a3ba-449d-9ab0-400a11103a1f",
   "metadata": {},
   "outputs": [
    {
     "data": {
      "text/plain": [
       "{12, 23, 34, 56}"
      ]
     },
     "execution_count": 226,
     "metadata": {},
     "output_type": "execute_result"
    }
   ],
   "source": [
    "s"
   ]
  },
  {
   "cell_type": "code",
   "execution_count": 228,
   "id": "e380a7ac-63cc-47e2-b2ab-fd20db1a2a3d",
   "metadata": {},
   "outputs": [
    {
     "data": {
      "text/plain": [
       "4"
      ]
     },
     "execution_count": 228,
     "metadata": {},
     "output_type": "execute_result"
    }
   ],
   "source": [
    "len(s)"
   ]
  },
  {
   "cell_type": "code",
   "execution_count": 230,
   "id": "f284b484-0985-4787-a7d7-fe9fe3b824a1",
   "metadata": {},
   "outputs": [
    {
     "ename": "TypeError",
     "evalue": "'set' object is not subscriptable",
     "output_type": "error",
     "traceback": [
      "\u001b[1;31m---------------------------------------------------------------------------\u001b[0m",
      "\u001b[1;31mTypeError\u001b[0m                                 Traceback (most recent call last)",
      "Cell \u001b[1;32mIn[230], line 1\u001b[0m\n\u001b[1;32m----> 1\u001b[0m s[\u001b[38;5;241m2\u001b[39m]\n",
      "\u001b[1;31mTypeError\u001b[0m: 'set' object is not subscriptable"
     ]
    }
   ],
   "source": [
    "s[2]     # sets are un oreded"
   ]
  },
  {
   "cell_type": "code",
   "execution_count": 232,
   "id": "1df8e2c4-180d-41fd-a2a4-089c827d52e0",
   "metadata": {},
   "outputs": [
    {
     "data": {
      "text/plain": [
       "{12, 23, 34, 56}"
      ]
     },
     "execution_count": 232,
     "metadata": {},
     "output_type": "execute_result"
    }
   ],
   "source": [
    "s "
   ]
  },
  {
   "cell_type": "code",
   "execution_count": 234,
   "id": "1f141842-c31d-4b27-8613-ba67a6aaf53f",
   "metadata": {},
   "outputs": [],
   "source": [
    "s.add(20)"
   ]
  },
  {
   "cell_type": "code",
   "execution_count": 236,
   "id": "44737679-043c-448a-8170-f6171ca503c5",
   "metadata": {},
   "outputs": [
    {
     "data": {
      "text/plain": [
       "{12, 20, 23, 34, 56}"
      ]
     },
     "execution_count": 236,
     "metadata": {},
     "output_type": "execute_result"
    }
   ],
   "source": [
    "s"
   ]
  },
  {
   "cell_type": "code",
   "execution_count": 238,
   "id": "734d05b2-23bd-4919-99d3-340fa2b407e3",
   "metadata": {},
   "outputs": [
    {
     "data": {
      "text/plain": [
       "{12, 20, 23, 34, 56, 'A'}"
      ]
     },
     "execution_count": 238,
     "metadata": {},
     "output_type": "execute_result"
    }
   ],
   "source": [
    "s.add('A')\n",
    "s"
   ]
  },
  {
   "cell_type": "code",
   "execution_count": 240,
   "id": "67d36df7-8a83-439e-b1f4-bde112e5c1b0",
   "metadata": {},
   "outputs": [],
   "source": [
    "s1 = frozenset(s)"
   ]
  },
  {
   "cell_type": "code",
   "execution_count": 242,
   "id": "f4b6e867-7e87-4786-8410-6ec596987f23",
   "metadata": {},
   "outputs": [
    {
     "ename": "AttributeError",
     "evalue": "'frozenset' object has no attribute 'add'",
     "output_type": "error",
     "traceback": [
      "\u001b[1;31m---------------------------------------------------------------------------\u001b[0m",
      "\u001b[1;31mAttributeError\u001b[0m                            Traceback (most recent call last)",
      "Cell \u001b[1;32mIn[242], line 1\u001b[0m\n\u001b[1;32m----> 1\u001b[0m s1\u001b[38;5;241m.\u001b[39madd(\u001b[38;5;241m1\u001b[39m)\n",
      "\u001b[1;31mAttributeError\u001b[0m: 'frozenset' object has no attribute 'add'"
     ]
    }
   ],
   "source": [
    "s1.add(1)"
   ]
  },
  {
   "cell_type": "code",
   "execution_count": 244,
   "id": "31cdf821-ce1e-490b-b303-cb28928e65ac",
   "metadata": {},
   "outputs": [
    {
     "data": {
      "text/plain": [
       "frozenset"
      ]
     },
     "execution_count": 244,
     "metadata": {},
     "output_type": "execute_result"
    }
   ],
   "source": [
    "type(s1)"
   ]
  },
  {
   "cell_type": "markdown",
   "id": "b41169a9-d7ec-4cb6-8955-988383e2b702",
   "metadata": {},
   "source": [
    "# Dictionary"
   ]
  },
  {
   "cell_type": "code",
   "execution_count": 247,
   "id": "ba2993d0-329e-4c18-a070-0b38504786bb",
   "metadata": {},
   "outputs": [],
   "source": [
    "d = {1:45, 2:35, 3:40, 4:47, 5:45, 10:'prajakta'}"
   ]
  },
  {
   "cell_type": "code",
   "execution_count": 249,
   "id": "bf0fa0d6-d2f8-4d0d-8b04-d07527979991",
   "metadata": {},
   "outputs": [
    {
     "data": {
      "text/plain": [
       "{1: 45, 2: 35, 3: 40, 4: 47, 5: 45, 10: 'prajakta'}"
      ]
     },
     "execution_count": 249,
     "metadata": {},
     "output_type": "execute_result"
    }
   ],
   "source": [
    "d\n",
    "## values acan be duplicates but not the key"
   ]
  },
  {
   "cell_type": "code",
   "execution_count": 251,
   "id": "78aede4d-19c6-4d17-b819-4210d23d33fa",
   "metadata": {},
   "outputs": [
    {
     "data": {
      "text/plain": [
       "'prajakta'"
      ]
     },
     "execution_count": 251,
     "metadata": {},
     "output_type": "execute_result"
    }
   ],
   "source": [
    "d[10]"
   ]
  },
  {
   "cell_type": "code",
   "execution_count": 253,
   "id": "c6d955de-006e-437d-963f-dda681020f72",
   "metadata": {},
   "outputs": [],
   "source": [
    "d[10] = 30"
   ]
  },
  {
   "cell_type": "code",
   "execution_count": 255,
   "id": "eff9800d-b52e-4736-a3be-9ec739e3507d",
   "metadata": {},
   "outputs": [
    {
     "data": {
      "text/plain": [
       "{1: 45, 2: 35, 3: 40, 4: 47, 5: 45, 10: 30}"
      ]
     },
     "execution_count": 255,
     "metadata": {},
     "output_type": "execute_result"
    }
   ],
   "source": [
    "d"
   ]
  },
  {
   "cell_type": "code",
   "execution_count": 257,
   "id": "fa3eb018-4023-4d24-b4e9-f37c99779e4a",
   "metadata": {},
   "outputs": [
    {
     "data": {
      "text/plain": [
       "dict_keys([1, 2, 3, 4, 5, 10])"
      ]
     },
     "execution_count": 257,
     "metadata": {},
     "output_type": "execute_result"
    }
   ],
   "source": [
    "d.keys()"
   ]
  },
  {
   "cell_type": "code",
   "execution_count": 259,
   "id": "540f0429-29e9-40ee-a83c-1c30b7daad4f",
   "metadata": {},
   "outputs": [
    {
     "data": {
      "text/plain": [
       "dict_values([45, 35, 40, 47, 45, 30])"
      ]
     },
     "execution_count": 259,
     "metadata": {},
     "output_type": "execute_result"
    }
   ],
   "source": [
    "d.values()"
   ]
  },
  {
   "cell_type": "code",
   "execution_count": 261,
   "id": "33a47d95-8041-47b2-912b-35671d700750",
   "metadata": {},
   "outputs": [
    {
     "data": {
      "text/plain": [
       "{1: 45, 2: 35, 3: 40, 4: 47, 5: 45, 10: 30}"
      ]
     },
     "execution_count": 261,
     "metadata": {},
     "output_type": "execute_result"
    }
   ],
   "source": [
    "d"
   ]
  },
  {
   "cell_type": "code",
   "execution_count": 263,
   "id": "34502ebb-67a3-4b33-81d5-8578ef8e0128",
   "metadata": {},
   "outputs": [
    {
     "data": {
      "text/plain": [
       "{1: 45, 2: 35, 3: 40, 4: 47, 5: 45, 10: 30, 15: 41}"
      ]
     },
     "execution_count": 263,
     "metadata": {},
     "output_type": "execute_result"
    }
   ],
   "source": [
    "d[15]=41\n",
    "d"
   ]
  },
  {
   "cell_type": "code",
   "execution_count": 265,
   "id": "323f8d4f-e416-4bfd-a692-dd65e41d2034",
   "metadata": {},
   "outputs": [
    {
     "data": {
      "text/plain": [
       "{1: 45, 2: 35, 3: 40, 4: 47, 5: 45, 10: 30, 15: 41, 'info': [41, 'prajakta']}"
      ]
     },
     "execution_count": 265,
     "metadata": {},
     "output_type": "execute_result"
    }
   ],
   "source": [
    "d['info']=[41,'prajakta']\n",
    "d"
   ]
  },
  {
   "cell_type": "code",
   "execution_count": 267,
   "id": "0514dc7e-cedc-4287-a3c9-4001bb777c60",
   "metadata": {},
   "outputs": [
    {
     "name": "stdout",
     "output_type": "stream",
     "text": [
      "1 ---> 45\n",
      "2 ---> 35\n",
      "3 ---> 40\n",
      "4 ---> 47\n",
      "5 ---> 45\n",
      "10 ---> 30\n",
      "15 ---> 41\n",
      "info ---> [41, 'prajakta']\n"
     ]
    }
   ],
   "source": [
    "#inrate prints keys and values\n",
    "\n",
    "for i in d:\n",
    "    print(i,'--->',d[i])\n"
   ]
  },
  {
   "cell_type": "code",
   "execution_count": null,
   "id": "2445227a-554b-4991-916d-98a84cafaace",
   "metadata": {},
   "outputs": [],
   "source": []
  }
 ],
 "metadata": {
  "kernelspec": {
   "display_name": "Python 3 (ipykernel)",
   "language": "python",
   "name": "python3"
  },
  "language_info": {
   "codemirror_mode": {
    "name": "ipython",
    "version": 3
   },
   "file_extension": ".py",
   "mimetype": "text/x-python",
   "name": "python",
   "nbconvert_exporter": "python",
   "pygments_lexer": "ipython3",
   "version": "3.12.4"
  }
 },
 "nbformat": 4,
 "nbformat_minor": 5
}
