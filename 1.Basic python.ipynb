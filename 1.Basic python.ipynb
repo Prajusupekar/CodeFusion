{
 "cells": [
  {
   "cell_type": "code",
   "execution_count": 1,
   "id": "69cb7363-7995-4636-9428-99db769a8604",
   "metadata": {},
   "outputs": [
    {
     "name": "stdout",
     "output_type": "stream",
     "text": [
      "hallo world\n"
     ]
    }
   ],
   "source": [
    "print(\"hallo world\")\n"
   ]
  },
  {
   "cell_type": "code",
   "execution_count": 2,
   "id": "9a6e9eb2-e18b-45f0-9eae-a9f16c57c6d5",
   "metadata": {},
   "outputs": [
    {
     "name": "stdout",
     "output_type": "stream",
     "text": [
      "Adityta\n"
     ]
    }
   ],
   "source": [
    "print('Adityta')"
   ]
  },
  {
   "cell_type": "code",
   "execution_count": 3,
   "id": "9fcc1873-9612-4090-b1d7-baf78a214752",
   "metadata": {},
   "outputs": [],
   "source": [
    "num = 10"
   ]
  },
  {
   "cell_type": "code",
   "execution_count": 4,
   "id": "6dd782a6-b845-4a72-94ae-620c91ac879c",
   "metadata": {},
   "outputs": [
    {
     "name": "stdout",
     "output_type": "stream",
     "text": [
      "10\n"
     ]
    }
   ],
   "source": [
    "print(num)"
   ]
  },
  {
   "cell_type": "code",
   "execution_count": 5,
   "id": "516cf1d2-5815-4472-af38-7355f5ae6c3e",
   "metadata": {},
   "outputs": [],
   "source": [
    "name = 'Prajakta'"
   ]
  },
  {
   "cell_type": "code",
   "execution_count": 6,
   "id": "1783ccd3-ff3d-42f9-9d52-19f942bd81e3",
   "metadata": {},
   "outputs": [
    {
     "name": "stdout",
     "output_type": "stream",
     "text": [
      "Prajakta\n"
     ]
    }
   ],
   "source": [
    "print(name)"
   ]
  },
  {
   "cell_type": "code",
   "execution_count": 7,
   "id": "de06e4f4-af07-4371-b62d-84a71e2a3ec9",
   "metadata": {},
   "outputs": [],
   "source": [
    "rate_of_interest = 10\n"
   ]
  },
  {
   "cell_type": "code",
   "execution_count": 8,
   "id": "27eeb8bd-3bb3-4c8e-9698-d79f4739cd3d",
   "metadata": {},
   "outputs": [
    {
     "name": "stdout",
     "output_type": "stream",
     "text": [
      "10\n"
     ]
    }
   ],
   "source": [
    "print(rate_of_interest)"
   ]
  },
  {
   "cell_type": "code",
   "execution_count": 9,
   "id": "114efbd0-ce46-4020-8064-26d05c6d5417",
   "metadata": {},
   "outputs": [],
   "source": [
    "# data type\n",
    "num1 = 25\n",
    "num2 = 22.5\n",
    "num3 = 'PRAJAKTA'"
   ]
  },
  {
   "cell_type": "code",
   "execution_count": 10,
   "id": "fea3d8e0-ac62-471e-af65-a59b41b3ea92",
   "metadata": {},
   "outputs": [
    {
     "data": {
      "text/plain": [
       "int"
      ]
     },
     "execution_count": 10,
     "metadata": {},
     "output_type": "execute_result"
    }
   ],
   "source": [
    "type(num1)"
   ]
  },
  {
   "cell_type": "code",
   "execution_count": 11,
   "id": "db488d87-054a-496c-9374-f18973b98927",
   "metadata": {},
   "outputs": [
    {
     "data": {
      "text/plain": [
       "float"
      ]
     },
     "execution_count": 11,
     "metadata": {},
     "output_type": "execute_result"
    }
   ],
   "source": [
    "type(num2)"
   ]
  },
  {
   "cell_type": "code",
   "execution_count": 12,
   "id": "e3c7e91d-2724-4217-b77f-50adae709f84",
   "metadata": {},
   "outputs": [
    {
     "data": {
      "text/plain": [
       "str"
      ]
     },
     "execution_count": 12,
     "metadata": {},
     "output_type": "execute_result"
    }
   ],
   "source": [
    "type(num3)"
   ]
  },
  {
   "cell_type": "code",
   "execution_count": 1,
   "id": "1e854349-fb0f-47e2-a6a2-3369cd7c97c4",
   "metadata": {},
   "outputs": [
    {
     "name": "stdout",
     "output_type": "stream",
     "text": [
      "8\n"
     ]
    }
   ],
   "source": [
    "num = 2**3\n",
    "print(num)"
   ]
  },
  {
   "cell_type": "code",
   "execution_count": 14,
   "id": "e8ac49da-bdd6-4ad8-8bd3-35dc117ef19a",
   "metadata": {},
   "outputs": [
    {
     "data": {
      "text/plain": [
       "int"
      ]
     },
     "execution_count": 14,
     "metadata": {},
     "output_type": "execute_result"
    }
   ],
   "source": [
    "type(num)"
   ]
  },
  {
   "cell_type": "code",
   "execution_count": 15,
   "id": "c1107213-d987-4d8f-b838-337fcae6c28b",
   "metadata": {},
   "outputs": [],
   "source": [
    "num = 12.12"
   ]
  },
  {
   "cell_type": "code",
   "execution_count": 16,
   "id": "3ee91edf-9c32-4aac-95f5-d19d68f61961",
   "metadata": {},
   "outputs": [
    {
     "data": {
      "text/plain": [
       "float"
      ]
     },
     "execution_count": 16,
     "metadata": {},
     "output_type": "execute_result"
    }
   ],
   "source": [
    "type(num)"
   ]
  },
  {
   "cell_type": "code",
   "execution_count": 17,
   "id": "13a13eca-b282-4962-9911-8245e3791747",
   "metadata": {},
   "outputs": [],
   "source": [
    "num1 = num *2.15"
   ]
  },
  {
   "cell_type": "code",
   "execution_count": 18,
   "id": "f59261e2-dd4b-40d7-b43e-47270b42ac5d",
   "metadata": {},
   "outputs": [
    {
     "name": "stdout",
     "output_type": "stream",
     "text": [
      "26.057999999999996\n"
     ]
    }
   ],
   "source": [
    "print(num1)"
   ]
  },
  {
   "cell_type": "code",
   "execution_count": 19,
   "id": "449294c7-3ca1-4033-a52c-a042f6037555",
   "metadata": {},
   "outputs": [
    {
     "data": {
      "text/plain": [
       "34672.1"
      ]
     },
     "execution_count": 19,
     "metadata": {},
     "output_type": "execute_result"
    }
   ],
   "source": [
    "x =34.6721e3\n",
    "x\n"
   ]
  },
  {
   "cell_type": "code",
   "execution_count": 20,
   "id": "6c689feb-4d46-490f-8094-754b06518f8f",
   "metadata": {},
   "outputs": [
    {
     "data": {
      "text/plain": [
       "12300.0"
      ]
     },
     "execution_count": 20,
     "metadata": {},
     "output_type": "execute_result"
    }
   ],
   "source": [
    "y =123e2   # 123 * 10**2\n",
    "y"
   ]
  },
  {
   "cell_type": "code",
   "execution_count": 21,
   "id": "7bed4dc9-3d2e-49ce-b079-b4c58ecf6bc6",
   "metadata": {},
   "outputs": [
    {
     "name": "stdout",
     "output_type": "stream",
     "text": [
      "prajakta\n"
     ]
    }
   ],
   "source": [
    "name = 'prajakta'\n",
    "print(name)"
   ]
  },
  {
   "cell_type": "code",
   "execution_count": 22,
   "id": "5e14be19-cf5b-40e0-bd78-dc22aa97fc2a",
   "metadata": {},
   "outputs": [
    {
     "name": "stdout",
     "output_type": "stream",
     "text": [
      "name\n"
     ]
    }
   ],
   "source": [
    "print('name')"
   ]
  },
  {
   "cell_type": "code",
   "execution_count": 23,
   "id": "42d16ff4-538a-48c9-9b6f-092155f44828",
   "metadata": {},
   "outputs": [
    {
     "name": "stdout",
     "output_type": "stream",
     "text": [
      "I Love \"Python\" Programming\n"
     ]
    }
   ],
   "source": [
    "sent = 'I Love \"Python\" Programming'\n",
    "print(sent)"
   ]
  },
  {
   "cell_type": "code",
   "execution_count": 24,
   "id": "aa6669c6-fada-48bc-a47a-68ccd3f5f43b",
   "metadata": {},
   "outputs": [],
   "source": [
    "# MULTIPLE ASSIGNMENT\n",
    "\n",
    "num1, num2, num3 = 12, 13, 14"
   ]
  },
  {
   "cell_type": "code",
   "execution_count": 25,
   "id": "b4b6216d-96fa-42e6-aeee-36f73ed5d859",
   "metadata": {},
   "outputs": [
    {
     "data": {
      "text/plain": [
       "12"
      ]
     },
     "execution_count": 25,
     "metadata": {},
     "output_type": "execute_result"
    }
   ],
   "source": [
    "num1"
   ]
  },
  {
   "cell_type": "code",
   "execution_count": 26,
   "id": "844a5bbc-93c7-4c31-adb6-049473b427fc",
   "metadata": {},
   "outputs": [
    {
     "data": {
      "text/plain": [
       "13"
      ]
     },
     "execution_count": 26,
     "metadata": {},
     "output_type": "execute_result"
    }
   ],
   "source": [
    "num2"
   ]
  },
  {
   "cell_type": "code",
   "execution_count": 1,
   "id": "7671052a-7178-47c9-b7ea-74cd745f968b",
   "metadata": {},
   "outputs": [
    {
     "data": {
      "text/plain": [
       "'prajakta'"
      ]
     },
     "execution_count": 1,
     "metadata": {},
     "output_type": "execute_result"
    }
   ],
   "source": [
    "# string opration\n",
    "name = 'Prajakta'\n",
    "name.lower()"
   ]
  },
  {
   "cell_type": "code",
   "execution_count": 28,
   "id": "ff807034-2bef-4f5f-ae46-146c23e9ebd3",
   "metadata": {},
   "outputs": [
    {
     "data": {
      "text/plain": [
       "'PRAJAKTA'"
      ]
     },
     "execution_count": 28,
     "metadata": {},
     "output_type": "execute_result"
    }
   ],
   "source": [
    "name.upper()"
   ]
  },
  {
   "cell_type": "code",
   "execution_count": 29,
   "id": "a74f89b3-b7ea-4b09-aba3-cb79195ff601",
   "metadata": {},
   "outputs": [
    {
     "data": {
      "text/plain": [
       "'pRAJAKTA'"
      ]
     },
     "execution_count": 29,
     "metadata": {},
     "output_type": "execute_result"
    }
   ],
   "source": [
    "name.swapcase()"
   ]
  },
  {
   "cell_type": "code",
   "execution_count": 30,
   "id": "01162b7b-c713-4d08-8ffb-e80e1f03859e",
   "metadata": {},
   "outputs": [
    {
     "data": {
      "text/plain": [
       "8"
      ]
     },
     "execution_count": 30,
     "metadata": {},
     "output_type": "execute_result"
    }
   ],
   "source": [
    "len(name)"
   ]
  },
  {
   "cell_type": "code",
   "execution_count": 31,
   "id": "140cc1bf-a1d0-4ae7-8ff7-70d0b4f10c1a",
   "metadata": {},
   "outputs": [
    {
     "data": {
      "text/plain": [
       "False"
      ]
     },
     "execution_count": 31,
     "metadata": {},
     "output_type": "execute_result"
    }
   ],
   "source": [
    "name.isupper()"
   ]
  },
  {
   "cell_type": "code",
   "execution_count": 33,
   "id": "5da55c78-2e4a-4cd1-81b6-050f51afd49d",
   "metadata": {},
   "outputs": [
    {
     "data": {
      "text/plain": [
       "False"
      ]
     },
     "execution_count": 33,
     "metadata": {},
     "output_type": "execute_result"
    }
   ],
   "source": [
    "name.islower()"
   ]
  },
  {
   "cell_type": "code",
   "execution_count": 34,
   "id": "2aee3c44-1db7-43aa-a3e4-e466a0cac802",
   "metadata": {},
   "outputs": [
    {
     "data": {
      "text/plain": [
       "True"
      ]
     },
     "execution_count": 34,
     "metadata": {},
     "output_type": "execute_result"
    }
   ],
   "source": [
    "name.istitle()"
   ]
  },
  {
   "cell_type": "code",
   "execution_count": 35,
   "id": "a8ed5921-dcee-4a3d-97a7-5360f3ce5341",
   "metadata": {},
   "outputs": [],
   "source": [
    "data1 = 'Pune'\n",
    "data2 = '1234'\n",
    "data3 = 'Pune1234'\n"
   ]
  },
  {
   "cell_type": "code",
   "execution_count": 36,
   "id": "d20c17bb-1d40-4992-b374-e27bf72c264d",
   "metadata": {},
   "outputs": [
    {
     "data": {
      "text/plain": [
       "str"
      ]
     },
     "execution_count": 36,
     "metadata": {},
     "output_type": "execute_result"
    }
   ],
   "source": [
    "type(data1)"
   ]
  },
  {
   "cell_type": "code",
   "execution_count": 37,
   "id": "d482b7b1-b4c9-4459-b8be-1f9a4af2cac3",
   "metadata": {},
   "outputs": [
    {
     "data": {
      "text/plain": [
       "str"
      ]
     },
     "execution_count": 37,
     "metadata": {},
     "output_type": "execute_result"
    }
   ],
   "source": [
    "type(data2)"
   ]
  },
  {
   "cell_type": "code",
   "execution_count": 38,
   "id": "23e444ae-dccc-4396-96ca-6c2d08349ab5",
   "metadata": {},
   "outputs": [
    {
     "data": {
      "text/plain": [
       "str"
      ]
     },
     "execution_count": 38,
     "metadata": {},
     "output_type": "execute_result"
    }
   ],
   "source": [
    "type(data3)"
   ]
  },
  {
   "cell_type": "code",
   "execution_count": 39,
   "id": "f24721db-de32-48f2-ae66-ba1e8dd8821f",
   "metadata": {},
   "outputs": [
    {
     "data": {
      "text/plain": [
       "True"
      ]
     },
     "execution_count": 39,
     "metadata": {},
     "output_type": "execute_result"
    }
   ],
   "source": [
    "data1.isalpha()"
   ]
  },
  {
   "cell_type": "code",
   "execution_count": 40,
   "id": "e029ddad-4c14-466f-b643-c4385d1acbac",
   "metadata": {},
   "outputs": [
    {
     "data": {
      "text/plain": [
       "False"
      ]
     },
     "execution_count": 40,
     "metadata": {},
     "output_type": "execute_result"
    }
   ],
   "source": [
    "data2.isalpha()"
   ]
  },
  {
   "cell_type": "code",
   "execution_count": 41,
   "id": "85f48bf0-75f8-4e93-a89e-831e26eb8d64",
   "metadata": {},
   "outputs": [
    {
     "data": {
      "text/plain": [
       "False"
      ]
     },
     "execution_count": 41,
     "metadata": {},
     "output_type": "execute_result"
    }
   ],
   "source": [
    "data3.isalpha()"
   ]
  },
  {
   "cell_type": "code",
   "execution_count": 42,
   "id": "0eb54040-4d00-4b3e-afd1-a081563f4948",
   "metadata": {},
   "outputs": [
    {
     "data": {
      "text/plain": [
       "False"
      ]
     },
     "execution_count": 42,
     "metadata": {},
     "output_type": "execute_result"
    }
   ],
   "source": [
    "data1.isdigit()"
   ]
  },
  {
   "cell_type": "code",
   "execution_count": 43,
   "id": "03d04448-a8b3-489c-8bd0-3bf245633b65",
   "metadata": {},
   "outputs": [
    {
     "data": {
      "text/plain": [
       "True"
      ]
     },
     "execution_count": 43,
     "metadata": {},
     "output_type": "execute_result"
    }
   ],
   "source": [
    "data2.isdigit()"
   ]
  },
  {
   "cell_type": "code",
   "execution_count": 44,
   "id": "f7b4ed7a-2211-4a9f-9075-0b42fc742ecc",
   "metadata": {},
   "outputs": [
    {
     "data": {
      "text/plain": [
       "' Prajakta '"
      ]
     },
     "execution_count": 44,
     "metadata": {},
     "output_type": "execute_result"
    }
   ],
   "source": [
    "name = ' Prajakta '\n",
    "name"
   ]
  },
  {
   "cell_type": "code",
   "execution_count": 45,
   "id": "e83d2719-6ba2-4f11-8ee4-bfbb8bfbd48e",
   "metadata": {},
   "outputs": [
    {
     "data": {
      "text/plain": [
       "'Prajakta '"
      ]
     },
     "execution_count": 45,
     "metadata": {},
     "output_type": "execute_result"
    }
   ],
   "source": [
    "name.lstrip()"
   ]
  },
  {
   "cell_type": "code",
   "execution_count": 46,
   "id": "e8cecef8-db01-4be8-a8c6-77c79d46a232",
   "metadata": {},
   "outputs": [
    {
     "data": {
      "text/plain": [
       "' Prajakta'"
      ]
     },
     "execution_count": 46,
     "metadata": {},
     "output_type": "execute_result"
    }
   ],
   "source": [
    "name.rstrip()"
   ]
  },
  {
   "cell_type": "code",
   "execution_count": 47,
   "id": "28197c5b-d75d-4de2-81c4-10ebe9c49f04",
   "metadata": {},
   "outputs": [
    {
     "data": {
      "text/plain": [
       "'Prajakta'"
      ]
     },
     "execution_count": 47,
     "metadata": {},
     "output_type": "execute_result"
    }
   ],
   "source": [
    "name.strip()"
   ]
  },
  {
   "cell_type": "code",
   "execution_count": 48,
   "id": "24d26629-a02d-40ba-8580-93e2dcb732de",
   "metadata": {},
   "outputs": [
    {
     "data": {
      "text/plain": [
       "'Prajakta'"
      ]
     },
     "execution_count": 48,
     "metadata": {},
     "output_type": "execute_result"
    }
   ],
   "source": [
    "name = name.strip()\n",
    "name"
   ]
  },
  {
   "cell_type": "code",
   "execution_count": 49,
   "id": "ec4fef99-29e4-48bc-9905-8b29feb4f2f1",
   "metadata": {},
   "outputs": [
    {
     "data": {
      "text/plain": [
       "True"
      ]
     },
     "execution_count": 49,
     "metadata": {},
     "output_type": "execute_result"
    }
   ],
   "source": [
    "name.startswith('P')"
   ]
  },
  {
   "cell_type": "code",
   "execution_count": 50,
   "id": "5359a33d-0a5f-439c-b237-d75ddad403ad",
   "metadata": {},
   "outputs": [
    {
     "data": {
      "text/plain": [
       "True"
      ]
     },
     "execution_count": 50,
     "metadata": {},
     "output_type": "execute_result"
    }
   ],
   "source": [
    "name.startswith('Pr')"
   ]
  },
  {
   "cell_type": "code",
   "execution_count": 51,
   "id": "1b44db70-7e6c-4616-a834-6b50bdaf4927",
   "metadata": {},
   "outputs": [
    {
     "data": {
      "text/plain": [
       "True"
      ]
     },
     "execution_count": 51,
     "metadata": {},
     "output_type": "execute_result"
    }
   ],
   "source": [
    "name.endswith('a')"
   ]
  },
  {
   "cell_type": "code",
   "execution_count": 52,
   "id": "4eb1330c-3773-4800-a624-9e901e8ab9e6",
   "metadata": {},
   "outputs": [
    {
     "data": {
      "text/plain": [
       "False"
      ]
     },
     "execution_count": 52,
     "metadata": {},
     "output_type": "execute_result"
    }
   ],
   "source": [
    "name.endswith('A')"
   ]
  },
  {
   "cell_type": "code",
   "execution_count": 53,
   "id": "2055561d-ebbd-4c53-9b06-64e296735326",
   "metadata": {},
   "outputs": [
    {
     "data": {
      "text/plain": [
       "'Prajakta'"
      ]
     },
     "execution_count": 53,
     "metadata": {},
     "output_type": "execute_result"
    }
   ],
   "source": [
    "name"
   ]
  },
  {
   "cell_type": "code",
   "execution_count": 54,
   "id": "b5d838d1-abb5-47ac-a90b-53f97b5ac299",
   "metadata": {},
   "outputs": [
    {
     "data": {
      "text/plain": [
       "'Pragakta'"
      ]
     },
     "execution_count": 54,
     "metadata": {},
     "output_type": "execute_result"
    }
   ],
   "source": [
    "name.replace('j', 'g')"
   ]
  },
  {
   "cell_type": "code",
   "execution_count": 55,
   "id": "e7ef8875-4df1-437f-8976-bd504c359d47",
   "metadata": {},
   "outputs": [
    {
     "data": {
      "text/plain": [
       "'P'"
      ]
     },
     "execution_count": 55,
     "metadata": {},
     "output_type": "execute_result"
    }
   ],
   "source": [
    "name[0]"
   ]
  },
  {
   "cell_type": "code",
   "execution_count": 56,
   "id": "4c1be125-3e0b-44c0-8791-8bef4b8177dc",
   "metadata": {},
   "outputs": [
    {
     "data": {
      "text/plain": [
       "3"
      ]
     },
     "execution_count": 56,
     "metadata": {},
     "output_type": "execute_result"
    }
   ],
   "source": [
    "name.find('j')\n",
    "          "
   ]
  },
  {
   "cell_type": "code",
   "execution_count": 1,
   "id": "cee33fb0-085f-4135-bbf7-64eb1d0223ee",
   "metadata": {},
   "outputs": [],
   "source": [
    "#dir(name)\n"
   ]
  },
  {
   "cell_type": "code",
   "execution_count": 58,
   "id": "b1c14093-8240-4213-b142-06f5fc5cc307",
   "metadata": {},
   "outputs": [
    {
     "name": "stdout",
     "output_type": "stream",
     "text": [
      "Help on built-in function zfill:\n",
      "\n",
      "zfill(width, /) method of builtins.str instance\n",
      "    Pad a numeric string with zeros on the left, to fill a field of the given width.\n",
      "\n",
      "    The string is never truncated.\n",
      "\n"
     ]
    }
   ],
   "source": [
    " help(name.zfill)"
   ]
  },
  {
   "cell_type": "code",
   "execution_count": 59,
   "id": "e79f480f-f4e4-4829-ac24-ae28e25cd56f",
   "metadata": {},
   "outputs": [],
   "source": [
    "# string concat"
   ]
  },
  {
   "cell_type": "code",
   "execution_count": 60,
   "id": "b2a0ebc9-562a-4379-91b1-d22eb8c6e1f1",
   "metadata": {},
   "outputs": [],
   "source": [
    "data1 = 'Hello'\n",
    "data2 = 'Pune'"
   ]
  },
  {
   "cell_type": "code",
   "execution_count": 61,
   "id": "8ad02cab-8c0e-45e5-ba6f-5eaeb6d96e3d",
   "metadata": {},
   "outputs": [],
   "source": [
    "result = data1 + data2"
   ]
  },
  {
   "cell_type": "code",
   "execution_count": 62,
   "id": "ba4597c0-82df-46c0-b049-a5225ce9f8a1",
   "metadata": {},
   "outputs": [
    {
     "data": {
      "text/plain": [
       "'HelloPune'"
      ]
     },
     "execution_count": 62,
     "metadata": {},
     "output_type": "execute_result"
    }
   ],
   "source": [
    "result"
   ]
  },
  {
   "cell_type": "code",
   "execution_count": 64,
   "id": "5d13df2a-0876-4e64-b185-3fb5f68400b5",
   "metadata": {},
   "outputs": [
    {
     "data": {
      "text/plain": [
       "'Hello world'"
      ]
     },
     "execution_count": 64,
     "metadata": {},
     "output_type": "execute_result"
    }
   ],
   "source": [
    "data1 + ' ' + 'world'"
   ]
  },
  {
   "cell_type": "code",
   "execution_count": 66,
   "id": "ce4b9d92-aa3d-4303-80f7-a5266d326e84",
   "metadata": {},
   "outputs": [],
   "source": [
    "# string reprentation"
   ]
  },
  {
   "cell_type": "code",
   "execution_count": 68,
   "id": "f9129c26-8d11-47c5-995d-5d67a9f39b3c",
   "metadata": {},
   "outputs": [
    {
     "data": {
      "text/plain": [
       "'Prajakta'"
      ]
     },
     "execution_count": 68,
     "metadata": {},
     "output_type": "execute_result"
    }
   ],
   "source": [
    "name"
   ]
  },
  {
   "cell_type": "code",
   "execution_count": 70,
   "id": "b2e54fd0-c611-439f-bb31-a7ec5e5ef221",
   "metadata": {},
   "outputs": [
    {
     "data": {
      "text/plain": [
       "'PrajaktaPrajaktaPrajakta'"
      ]
     },
     "execution_count": 70,
     "metadata": {},
     "output_type": "execute_result"
    }
   ],
   "source": [
    "name * 3"
   ]
  },
  {
   "cell_type": "code",
   "execution_count": 72,
   "id": "f2065268-d24b-4364-9386-261d9a7d988e",
   "metadata": {},
   "outputs": [],
   "source": [
    "# escape sequnce"
   ]
  },
  {
   "cell_type": "code",
   "execution_count": 74,
   "id": "ba009581-ceeb-4740-bcff-297764489198",
   "metadata": {},
   "outputs": [
    {
     "name": "stdout",
     "output_type": "stream",
     "text": [
      "Hello World\n"
     ]
    }
   ],
   "source": [
    "print('Hello World')"
   ]
  },
  {
   "cell_type": "code",
   "execution_count": 76,
   "id": "a2ad1403-376b-454e-ac38-fee891256b00",
   "metadata": {},
   "outputs": [
    {
     "name": "stdout",
     "output_type": "stream",
     "text": [
      "Hello\n",
      "World\n"
     ]
    }
   ],
   "source": [
    "print('Hello\\nWorld')"
   ]
  },
  {
   "cell_type": "code",
   "execution_count": 78,
   "id": "0ea13991-4dc6-4a69-bb33-2e44a5906cfc",
   "metadata": {},
   "outputs": [
    {
     "name": "stdout",
     "output_type": "stream",
     "text": [
      "Hello \\ World\n"
     ]
    }
   ],
   "source": [
    "print('Hello \\\\ World')"
   ]
  },
  {
   "cell_type": "code",
   "execution_count": 80,
   "id": "0801787a-0cbc-4aa0-a02b-8de91a6addd9",
   "metadata": {},
   "outputs": [
    {
     "name": "stdout",
     "output_type": "stream",
     "text": [
      "Hello'World\n"
     ]
    }
   ],
   "source": [
    "print('Hello\\'World')"
   ]
  },
  {
   "cell_type": "code",
   "execution_count": 82,
   "id": "22e2b673-7216-4df0-b133-f84846a4517a",
   "metadata": {},
   "outputs": [],
   "source": [
    "# docstring\n",
    "\n",
    "lines = \"\"\" this is first line\n",
    "this ids second line\n",
    "this is third line\"\"\""
   ]
  },
  {
   "cell_type": "code",
   "execution_count": 84,
   "id": "d21d2267-9592-4f95-ab21-31def0001779",
   "metadata": {},
   "outputs": [
    {
     "name": "stdout",
     "output_type": "stream",
     "text": [
      " this is first line\n",
      "this ids second line\n",
      "this is third line\n"
     ]
    }
   ],
   "source": [
    "print(lines)"
   ]
  },
  {
   "cell_type": "code",
   "execution_count": 86,
   "id": "eabc14e2-d127-4a17-8e89-c6ce3b0e17d0",
   "metadata": {},
   "outputs": [],
   "source": [
    "### ASCII"
   ]
  },
  {
   "cell_type": "code",
   "execution_count": 88,
   "id": "fad8cdf7-fd58-461b-9557-56feb95b4d6c",
   "metadata": {},
   "outputs": [
    {
     "data": {
      "text/plain": [
       "65"
      ]
     },
     "execution_count": 88,
     "metadata": {},
     "output_type": "execute_result"
    }
   ],
   "source": [
    "ord('A')"
   ]
  },
  {
   "cell_type": "code",
   "execution_count": 90,
   "id": "8b274174-9734-410f-8f8d-8d985f11c06a",
   "metadata": {},
   "outputs": [
    {
     "data": {
      "text/plain": [
       "97"
      ]
     },
     "execution_count": 90,
     "metadata": {},
     "output_type": "execute_result"
    }
   ],
   "source": [
    "ord('a')"
   ]
  },
  {
   "cell_type": "code",
   "execution_count": 92,
   "id": "85e40454-95fc-49d1-8038-26bba345fdf8",
   "metadata": {},
   "outputs": [
    {
     "data": {
      "text/plain": [
       "36"
      ]
     },
     "execution_count": 92,
     "metadata": {},
     "output_type": "execute_result"
    }
   ],
   "source": [
    "ord('$')"
   ]
  },
  {
   "cell_type": "code",
   "execution_count": 94,
   "id": "95ab051e-c6fa-44bd-8013-ac0b786575d6",
   "metadata": {},
   "outputs": [
    {
     "data": {
      "text/plain": [
       "'Y'"
      ]
     },
     "execution_count": 94,
     "metadata": {},
     "output_type": "execute_result"
    }
   ],
   "source": [
    "chr(89)"
   ]
  },
  {
   "cell_type": "code",
   "execution_count": 96,
   "id": "fd62b255-214e-48a3-958b-99d2fc3f9ec6",
   "metadata": {},
   "outputs": [
    {
     "data": {
      "text/plain": [
       "'²'"
      ]
     },
     "execution_count": 96,
     "metadata": {},
     "output_type": "execute_result"
    }
   ],
   "source": [
    "chr(178)"
   ]
  },
  {
   "cell_type": "code",
   "execution_count": 98,
   "id": "55bd60d1-54e4-42ae-ab0d-2ddbc6a0ac81",
   "metadata": {},
   "outputs": [
    {
     "data": {
      "text/plain": [
       "'x²'"
      ]
     },
     "execution_count": 98,
     "metadata": {},
     "output_type": "execute_result"
    }
   ],
   "source": [
    "'x' + chr(178)"
   ]
  },
  {
   "cell_type": "code",
   "execution_count": 104,
   "id": "1632063c-ae83-4c3f-89e2-364ec38e7772",
   "metadata": {},
   "outputs": [],
   "source": [
    "# print function"
   ]
  },
  {
   "cell_type": "code",
   "execution_count": 108,
   "id": "f6682006-eea3-46c4-afe3-4d8706245193",
   "metadata": {},
   "outputs": [],
   "source": [
    "name = 'Prajakta'\n",
    "marks = 78.8"
   ]
  },
  {
   "cell_type": "code",
   "execution_count": 110,
   "id": "3589d73d-3e9b-4482-ae9f-98831e0cf653",
   "metadata": {},
   "outputs": [
    {
     "name": "stdout",
     "output_type": "stream",
     "text": [
      "my name is Prajakta and marks are 78.8\n"
     ]
    }
   ],
   "source": [
    "print(\"my name is\",name ,\"and marks are\",marks)"
   ]
  },
  {
   "cell_type": "code",
   "execution_count": 116,
   "id": "70f45d17-2f62-4604-80d5-9bdd2b1bdfa8",
   "metadata": {},
   "outputs": [
    {
     "name": "stdout",
     "output_type": "stream",
     "text": [
      "my name is Prajakta and marks are 78.80\n"
     ]
    }
   ],
   "source": [
    "# formative print\n",
    "\n",
    "print(\"my name is %s and marks are %.2f\"%(name,marks))"
   ]
  },
  {
   "cell_type": "code",
   "execution_count": 120,
   "id": "88be6b80-f378-4285-bfa3-afca7a0234dc",
   "metadata": {},
   "outputs": [
    {
     "name": "stdout",
     "output_type": "stream",
     "text": [
      "my name is Prajakta and marks are 78\n"
     ]
    }
   ],
   "source": [
    "print(\"my name is %s and marks are %i\"%(name,marks))"
   ]
  },
  {
   "cell_type": "code",
   "execution_count": 122,
   "id": "672f914d-6915-4f77-bdfe-26b9d8a3aa94",
   "metadata": {},
   "outputs": [],
   "source": [
    "city = 'Pune'"
   ]
  },
  {
   "cell_type": "code",
   "execution_count": 126,
   "id": "b4d710bd-9e31-4dfe-9119-7ac4fbf9c3fa",
   "metadata": {},
   "outputs": [
    {
     "name": "stdout",
     "output_type": "stream",
     "text": [
      "Prajakta 78.8 Pune\n"
     ]
    }
   ],
   "source": [
    "print(name,marks,city)"
   ]
  },
  {
   "cell_type": "code",
   "execution_count": 128,
   "id": "40743815-b917-43b4-b75e-90c3c9bed4fa",
   "metadata": {},
   "outputs": [
    {
     "name": "stdout",
     "output_type": "stream",
     "text": [
      "Prajakta\n",
      "78.8\n",
      "Pune\n"
     ]
    }
   ],
   "source": [
    "print(name, marks, city, sep = '\\n')"
   ]
  },
  {
   "cell_type": "markdown",
   "id": "7e9b4d3c-2e5c-4368-a23e-003731ab5957",
   "metadata": {},
   "source": [
    "### Oprators"
   ]
  },
  {
   "cell_type": "code",
   "execution_count": 135,
   "id": "975981a7-1f79-4130-8cd8-c80f1d19a049",
   "metadata": {},
   "outputs": [],
   "source": [
    "# arithmatic oprator"
   ]
  },
  {
   "cell_type": "code",
   "execution_count": 147,
   "id": "dc3833f4-7201-4fd8-b644-79db58ed11ea",
   "metadata": {},
   "outputs": [],
   "source": [
    "num1 = 10\n",
    "num2 = 8"
   ]
  },
  {
   "cell_type": "code",
   "execution_count": 149,
   "id": "0a62c87e-8b07-412b-823b-da9c73fc3c84",
   "metadata": {},
   "outputs": [
    {
     "data": {
      "text/plain": [
       "18"
      ]
     },
     "execution_count": 149,
     "metadata": {},
     "output_type": "execute_result"
    }
   ],
   "source": [
    "num1 + num2"
   ]
  },
  {
   "cell_type": "code",
   "execution_count": 151,
   "id": "984fa56a-7ae0-461c-8e57-5573ce1137d6",
   "metadata": {},
   "outputs": [
    {
     "data": {
      "text/plain": [
       "2"
      ]
     },
     "execution_count": 151,
     "metadata": {},
     "output_type": "execute_result"
    }
   ],
   "source": [
    "num1-num2"
   ]
  },
  {
   "cell_type": "code",
   "execution_count": 153,
   "id": "33d84736-6adf-4784-97d3-7bb6f47d54fd",
   "metadata": {},
   "outputs": [
    {
     "data": {
      "text/plain": [
       "80"
      ]
     },
     "execution_count": 153,
     "metadata": {},
     "output_type": "execute_result"
    }
   ],
   "source": [
    "num1*num2"
   ]
  },
  {
   "cell_type": "code",
   "execution_count": 155,
   "id": "106ef4da-1c86-428b-bf4b-987c0a377c1c",
   "metadata": {},
   "outputs": [
    {
     "data": {
      "text/plain": [
       "1.25"
      ]
     },
     "execution_count": 155,
     "metadata": {},
     "output_type": "execute_result"
    }
   ],
   "source": [
    "num1/ num2"
   ]
  },
  {
   "cell_type": "code",
   "execution_count": 157,
   "id": "6ad486bc-4551-43ba-9c54-29020dba3696",
   "metadata": {},
   "outputs": [
    {
     "data": {
      "text/plain": [
       "100000000"
      ]
     },
     "execution_count": 157,
     "metadata": {},
     "output_type": "execute_result"
    }
   ],
   "source": [
    "num1 **num2"
   ]
  },
  {
   "cell_type": "code",
   "execution_count": 163,
   "id": "99584647-a487-4152-be4b-6724c028888e",
   "metadata": {},
   "outputs": [
    {
     "data": {
      "text/plain": [
       "1"
      ]
     },
     "execution_count": 163,
     "metadata": {},
     "output_type": "execute_result"
    }
   ],
   "source": [
    "num1 // num2   ## floor division   only give integer part of this"
   ]
  },
  {
   "cell_type": "code",
   "execution_count": 167,
   "id": "9b34c4f6-140b-43fd-9f11-beba401f50fd",
   "metadata": {},
   "outputs": [
    {
     "data": {
      "text/plain": [
       "2"
      ]
     },
     "execution_count": 167,
     "metadata": {},
     "output_type": "execute_result"
    }
   ],
   "source": [
    "num1 % num2       ##  mod oprator   givereminder"
   ]
  },
  {
   "cell_type": "code",
   "execution_count": null,
   "id": "d307ee1e-f3c0-4ae8-8370-34d47bff0360",
   "metadata": {},
   "outputs": [],
   "source": [
    "# relational oprator"
   ]
  },
  {
   "cell_type": "code",
   "execution_count": 169,
   "id": "44194c99-26d2-4dcc-89b6-377785dfca8f",
   "metadata": {},
   "outputs": [
    {
     "data": {
      "text/plain": [
       "True"
      ]
     },
     "execution_count": 169,
     "metadata": {},
     "output_type": "execute_result"
    }
   ],
   "source": [
    "num1 > num2"
   ]
  },
  {
   "cell_type": "code",
   "execution_count": 177,
   "id": "484dd24e-6d4e-445f-9287-9b7221847829",
   "metadata": {},
   "outputs": [
    {
     "data": {
      "text/plain": [
       "False"
      ]
     },
     "execution_count": 177,
     "metadata": {},
     "output_type": "execute_result"
    }
   ],
   "source": [
    "num1<= num2"
   ]
  },
  {
   "cell_type": "code",
   "execution_count": 175,
   "id": "faf20f4a-db76-4c11-b4de-e3e24f85347d",
   "metadata": {},
   "outputs": [
    {
     "data": {
      "text/plain": [
       "False"
      ]
     },
     "execution_count": 175,
     "metadata": {},
     "output_type": "execute_result"
    }
   ],
   "source": [
    "num1 == num2"
   ]
  },
  {
   "cell_type": "code",
   "execution_count": 179,
   "id": "246c6e01-781d-4606-bcca-914b982414fe",
   "metadata": {},
   "outputs": [
    {
     "data": {
      "text/plain": [
       "True"
      ]
     },
     "execution_count": 179,
     "metadata": {},
     "output_type": "execute_result"
    }
   ],
   "source": [
    "num1!= num2"
   ]
  },
  {
   "cell_type": "code",
   "execution_count": null,
   "id": "1cbd68e0-064d-44ca-b96d-b5a8c8bfbdb2",
   "metadata": {},
   "outputs": [],
   "source": [
    "# assignment oprator"
   ]
  },
  {
   "cell_type": "code",
   "execution_count": 181,
   "id": "dba50bde-0f35-479b-8754-55e0ebbc2454",
   "metadata": {},
   "outputs": [],
   "source": [
    "num = 20"
   ]
  },
  {
   "cell_type": "code",
   "execution_count": 183,
   "id": "e1b0917a-102f-411f-923b-e8d656594664",
   "metadata": {},
   "outputs": [],
   "source": [
    "num += 5"
   ]
  },
  {
   "cell_type": "code",
   "execution_count": 189,
   "id": "bcb7be4e-26b3-4b66-842e-ea63073bed6c",
   "metadata": {},
   "outputs": [
    {
     "data": {
      "text/plain": [
       "25"
      ]
     },
     "execution_count": 189,
     "metadata": {},
     "output_type": "execute_result"
    }
   ],
   "source": [
    "num"
   ]
  },
  {
   "cell_type": "code",
   "execution_count": 191,
   "id": "0d9b8208-5664-46af-adaf-0319bca820a8",
   "metadata": {},
   "outputs": [
    {
     "data": {
      "text/plain": [
       "(10, 8)"
      ]
     },
     "execution_count": 191,
     "metadata": {},
     "output_type": "execute_result"
    }
   ],
   "source": [
    "num1 ,num2"
   ]
  },
  {
   "cell_type": "code",
   "execution_count": 193,
   "id": "43bf8686-0436-4715-b0ff-82f53d75fd20",
   "metadata": {},
   "outputs": [],
   "source": [
    "# logical oprator"
   ]
  },
  {
   "cell_type": "code",
   "execution_count": 197,
   "id": "b4c9848b-5ec4-47e8-aa4e-a38ea116ddab",
   "metadata": {},
   "outputs": [
    {
     "data": {
      "text/plain": [
       "True"
      ]
     },
     "execution_count": 197,
     "metadata": {},
     "output_type": "execute_result"
    }
   ],
   "source": [
    "num1 >= 10 and num1 <100"
   ]
  },
  {
   "cell_type": "code",
   "execution_count": 203,
   "id": "6e36f1ce-59bd-45b7-b257-19cc652c73ec",
   "metadata": {},
   "outputs": [
    {
     "data": {
      "text/plain": [
       "False"
      ]
     },
     "execution_count": 203,
     "metadata": {},
     "output_type": "execute_result"
    }
   ],
   "source": [
    "num1 >=10 and num2<1    # if any one condition is false then result will be false"
   ]
  },
  {
   "cell_type": "code",
   "execution_count": 205,
   "id": "3d2378f7-166a-4ba3-859a-2d0213aa775f",
   "metadata": {},
   "outputs": [
    {
     "data": {
      "text/plain": [
       "True"
      ]
     },
     "execution_count": 205,
     "metadata": {},
     "output_type": "execute_result"
    }
   ],
   "source": [
    "num >=10 or num2 <1    # if any one condition is true then result is true"
   ]
  },
  {
   "cell_type": "code",
   "execution_count": null,
   "id": "8bd12ffe-2569-40e8-88d0-a6389b7ee2b8",
   "metadata": {},
   "outputs": [],
   "source": [
    "# type casting"
   ]
  },
  {
   "cell_type": "code",
   "execution_count": 207,
   "id": "51c530d4-902e-408f-92e1-829458180303",
   "metadata": {},
   "outputs": [],
   "source": [
    "num1 = 50\n",
    "num2 =100.5"
   ]
  },
  {
   "cell_type": "code",
   "execution_count": 209,
   "id": "7d8cf59e-b710-444f-8d66-a414cd7f9a8a",
   "metadata": {},
   "outputs": [
    {
     "data": {
      "text/plain": [
       "150.5"
      ]
     },
     "execution_count": 209,
     "metadata": {},
     "output_type": "execute_result"
    }
   ],
   "source": [
    "num1 + num2"
   ]
  },
  {
   "cell_type": "code",
   "execution_count": 211,
   "id": "323216c7-d641-4d71-be82-7fb3972f4941",
   "metadata": {},
   "outputs": [
    {
     "data": {
      "text/plain": [
       "150"
      ]
     },
     "execution_count": 211,
     "metadata": {},
     "output_type": "execute_result"
    }
   ],
   "source": [
    "num1 + int(num2)"
   ]
  },
  {
   "cell_type": "code",
   "execution_count": 213,
   "id": "55649af2-96cd-45d5-8e46-89bcfa34f0a2",
   "metadata": {},
   "outputs": [],
   "source": [
    "num = '123'"
   ]
  },
  {
   "cell_type": "code",
   "execution_count": 217,
   "id": "920e5166-fbe9-4eda-914d-490ee8020ab2",
   "metadata": {},
   "outputs": [
    {
     "data": {
      "text/plain": [
       "369"
      ]
     },
     "execution_count": 217,
     "metadata": {},
     "output_type": "execute_result"
    }
   ],
   "source": [
    "int(num) *3"
   ]
  },
  {
   "cell_type": "code",
   "execution_count": null,
   "id": "7f80b4af-1fe7-46db-bbdb-33942ae3fd47",
   "metadata": {},
   "outputs": [],
   "source": [
    "# program for addition"
   ]
  },
  {
   "cell_type": "code",
   "execution_count": 219,
   "id": "006caf25-6916-46f3-8e13-f8d89dd1bc0f",
   "metadata": {},
   "outputs": [
    {
     "name": "stdout",
     "output_type": "stream",
     "text": [
      "addition is :  80\n"
     ]
    }
   ],
   "source": [
    "num1 = 30\n",
    "num2 = 50\n",
    "\n",
    "addition = num1 +num2\n",
    "print('addition is : ',addition)"
   ]
  },
  {
   "cell_type": "code",
   "execution_count": 223,
   "id": "5d029713-c413-4086-bdaf-b3711ea75f01",
   "metadata": {},
   "outputs": [
    {
     "name": "stdin",
     "output_type": "stream",
     "text": [
      "Enter first number 50\n",
      "Enter second number 90\n"
     ]
    },
    {
     "name": "stdout",
     "output_type": "stream",
     "text": [
      "addition is :  140\n"
     ]
    }
   ],
   "source": [
    "num1 = int(input('Enter first number'))\n",
    "num2 = int(input('Enter second number'))\n",
    "addition = num1 +num2\n",
    "print('addition is : ',addition)"
   ]
  }
 ],
 "metadata": {
  "kernelspec": {
   "display_name": "Python 3 (ipykernel)",
   "language": "python",
   "name": "python3"
  },
  "language_info": {
   "codemirror_mode": {
    "name": "ipython",
    "version": 3
   },
   "file_extension": ".py",
   "mimetype": "text/x-python",
   "name": "python",
   "nbconvert_exporter": "python",
   "pygments_lexer": "ipython3",
   "version": "3.12.4"
  }
 },
 "nbformat": 4,
 "nbformat_minor": 5
}
