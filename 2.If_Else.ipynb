{
 "cells": [
  {
   "cell_type": "code",
   "execution_count": 1,
   "id": "d8abece6-8d65-40c5-beb0-d13edbf3e63f",
   "metadata": {},
   "outputs": [
    {
     "name": "stdin",
     "output_type": "stream",
     "text": [
      "Enter any number 45\n"
     ]
    }
   ],
   "source": [
    "# cheak if a number is greater than 50\n",
    "\n",
    "num = int(input('Enter any number'))\n",
    "\n",
    "if num>50:\n",
    "    print('ok')"
   ]
  },
  {
   "cell_type": "code",
   "execution_count": 2,
   "id": "b9aa2ce2-b5ba-4f01-b195-03c1f621d154",
   "metadata": {},
   "outputs": [
    {
     "name": "stdin",
     "output_type": "stream",
     "text": [
      "Enter any number 50\n"
     ]
    },
    {
     "name": "stdout",
     "output_type": "stream",
     "text": [
      "not ok\n",
      "Good bye\n"
     ]
    }
   ],
   "source": [
    "# cheak if a number is greater than 50\n",
    "\n",
    "num = int(input('Enter any number'))\n",
    "\n",
    "if num>50:\n",
    "    print('ok')\n",
    "    print('Hello')\n",
    "\n",
    "else:\n",
    "    print('not ok')\n",
    "    print('Good bye')"
   ]
  },
  {
   "cell_type": "code",
   "execution_count": 3,
   "id": "17169721-dd3e-402d-a044-d746aad9b1f5",
   "metadata": {},
   "outputs": [
    {
     "name": "stdin",
     "output_type": "stream",
     "text": [
      "Enter the number -52\n"
     ]
    },
    {
     "name": "stdout",
     "output_type": "stream",
     "text": [
      "Negative\n"
     ]
    }
   ],
   "source": [
    "# cheak if the number is positiva or negative\n",
    "num = int(input('Enter the number'))\n",
    "\n",
    "if num > 0:\n",
    "    print('positive')\n",
    "\n",
    "elif num ==0:\n",
    "    print('zero')\n",
    "\n",
    "else:\n",
    "    print('Negative')"
   ]
  },
  {
   "cell_type": "code",
   "execution_count": 4,
   "id": "7790db47-58b1-49e4-9e32-fd1f62a2edf6",
   "metadata": {},
   "outputs": [
    {
     "name": "stdin",
     "output_type": "stream",
     "text": [
      "Enter the number 56\n"
     ]
    },
    {
     "name": "stdout",
     "output_type": "stream",
     "text": [
      "Even\n"
     ]
    }
   ],
   "source": [
    "#write a program for even or odd\n",
    "\n",
    "num = int(input('Enter the number'))\n",
    "\n",
    "if num%2 ==0:\n",
    "    print('Even')\n",
    "\n",
    "else:\n",
    "    print('odd')\n",
    "\n"
   ]
  },
  {
   "cell_type": "code",
   "execution_count": 8,
   "id": "77ba9585-01a0-4404-9c8f-9ed8fb1e25ff",
   "metadata": {},
   "outputs": [
    {
     "name": "stdin",
     "output_type": "stream",
     "text": [
      "Enter the number 85\n"
     ]
    },
    {
     "name": "stdout",
     "output_type": "stream",
     "text": [
      "correct\n"
     ]
    }
   ],
   "source": [
    "# cheak the number between 50 and 100\n",
    "\n",
    "num = int(input('Enter the number'))\n",
    "\n",
    "if num > 50:\n",
    "    if num < 100:\n",
    "        print('correct')\n",
    "    else:\n",
    "        print('Greater than 100')\n",
    "else:\n",
    "    print('incorrect')\n",
    "\n",
    "\n"
   ]
  },
  {
   "cell_type": "code",
   "execution_count": 9,
   "id": "0c7dee83-5c8b-46f5-9130-d1d2d4129768",
   "metadata": {},
   "outputs": [
    {
     "name": "stdin",
     "output_type": "stream",
     "text": [
      "Enter the number 85\n"
     ]
    },
    {
     "name": "stdout",
     "output_type": "stream",
     "text": [
      "correct\n"
     ]
    }
   ],
   "source": [
    "num = int(input('Enter the number'))\n",
    "\n",
    "if num > 50 and num < 100:\n",
    "        print('correct')\n",
    "else:\n",
    "    print('incorrect')\n"
   ]
  },
  {
   "cell_type": "code",
   "execution_count": 10,
   "id": "de0d3887-2d87-470e-9867-286e13b16782",
   "metadata": {},
   "outputs": [
    {
     "name": "stdin",
     "output_type": "stream",
     "text": [
      "Enter purchase cost 250\n",
      "Enter selling cost 500\n"
     ]
    },
    {
     "name": "stdout",
     "output_type": "stream",
     "text": [
      "profit: 250\n"
     ]
    }
   ],
   "source": [
    "# read purchase cost and selling cost \n",
    "# find profit or loss and how much\n",
    "\n",
    "pc = int(input('Enter purchase cost'))\n",
    "sc= int(input('Enter selling cost'))\n",
    "\n",
    "if sc > pc:\n",
    "    print('profit:',sc-pc)\n",
    "else:\n",
    "    print('loss:',pc-sc)\n",
    "\n"
   ]
  },
  {
   "cell_type": "code",
   "execution_count": 3,
   "id": "350819a0-5ccf-42bf-b0aa-4ff6a6a1ca0b",
   "metadata": {},
   "outputs": [
    {
     "name": "stdin",
     "output_type": "stream",
     "text": [
      "Enter the first number 50\n",
      "Enter the second number 50\n",
      "Enter the third number 50\n"
     ]
    },
    {
     "name": "stdout",
     "output_type": "stream",
     "text": [
      "Largest: 50\n"
     ]
    }
   ],
   "source": [
    "# take 3 numbers and find out the largest\n",
    "#not allowed  to use and  or or\n",
    "\n",
    "num1 = int(input('Enter the first number'))\n",
    "num2 = int(input('Enter the second number'))\n",
    "num3 = int(input('Enter the third number'))\n",
    "\n",
    "if num1 > num2:\n",
    "    if num1 > num3:\n",
    "        print('Greater :',num1)\n",
    "    else:\n",
    "        print('Greater',num3)\n",
    "else:\n",
    "    if num2 > num3:\n",
    "        print('Largest',num2)\n",
    "    else:\n",
    "        print('Largest:',num3)\n",
    "    \n",
    "\n"
   ]
  },
  {
   "cell_type": "code",
   "execution_count": 12,
   "id": "53072069-4c39-4e55-aa65-ce832167cf42",
   "metadata": {},
   "outputs": [
    {
     "name": "stdin",
     "output_type": "stream",
     "text": [
      "Enter the year 2020\n"
     ]
    },
    {
     "name": "stdout",
     "output_type": "stream",
     "text": [
      "Leap year\n"
     ]
    }
   ],
   "source": [
    "# find out if its leap\n",
    "\n",
    "year = int(input('Enter the year'))\n",
    "\n",
    "if year % 4 ==0:\n",
    "    if year %100 == 0:\n",
    "        if year % 400 == 0:\n",
    "            print('Leap year')\n",
    "        else:\n",
    "            print('Centuary not Leap year')\n",
    "    else:\n",
    "        print('Leap year')\n",
    "else:\n",
    "    print('Not Leap Year')"
   ]
  },
  {
   "cell_type": "code",
   "execution_count": 13,
   "id": "51a47caa-766a-4808-97b5-06eee5ceb0a5",
   "metadata": {},
   "outputs": [
    {
     "name": "stdin",
     "output_type": "stream",
     "text": [
      "Enter marks for sub1 60\n",
      "Enter marks for sub2 90\n",
      "Enter marks for sub3 80\n"
     ]
    },
    {
     "name": "stdout",
     "output_type": "stream",
     "text": [
      "Percentage: 76.66666666666667\n",
      "Second class\n"
     ]
    }
   ],
   "source": [
    "'''\n",
    "take the marks of 3 subject out of 100 each\n",
    "if the total percentage =>\n",
    "> 80 => fc\n",
    "70 - 80 => sc\n",
    "60 - 70 => tc \n",
    "50 - 70 => pass\n",
    "< 50 => fail\n",
    "'''\n",
    "sub1 = float(input('Enter marks for sub1'))\n",
    "sub2 = float(input('Enter marks for sub2'))\n",
    "sub3 = float(input('Enter marks for sub3'))\n",
    "\n",
    "per = (sub1+sub2+sub3)*100/300\n",
    "print ('Percentage:',per)\n",
    "\n",
    "\n",
    "if per > 80:\n",
    "    print('first class')\n",
    "elif per >=70:\n",
    "    print('Second class')\n",
    "elif per >=60:\n",
    "    print('Thrid class')\n",
    "elif per >50:\n",
    "    print('Pass')\n",
    "else:\n",
    "    print('Fail')           \n",
    "    "
   ]
  }
 ],
 "metadata": {
  "kernelspec": {
   "display_name": "Python 3 (ipykernel)",
   "language": "python",
   "name": "python3"
  },
  "language_info": {
   "codemirror_mode": {
    "name": "ipython",
    "version": 3
   },
   "file_extension": ".py",
   "mimetype": "text/x-python",
   "name": "python",
   "nbconvert_exporter": "python",
   "pygments_lexer": "ipython3",
   "version": "3.12.4"
  }
 },
 "nbformat": 4,
 "nbformat_minor": 5
}
